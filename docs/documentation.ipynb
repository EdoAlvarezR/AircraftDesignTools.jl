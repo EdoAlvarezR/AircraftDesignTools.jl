{
 "cells": [
  {
   "cell_type": "markdown",
   "metadata": {},
   "source": [
    "<center><b>\n",
    "<span style=\"font-size: 2em;\">\n",
    "AircraftDesignTools Documentation</span><br><span style=\"font-size: 1em;\">\n",
    "Last Update: 07/2019</span>  \n",
    "</b></center>"
   ]
  },
  {
   "cell_type": "code",
   "execution_count": 1,
   "metadata": {},
   "outputs": [],
   "source": [
    "using AircraftDesignTools\n",
    "adt = AircraftDesignTools\n",
    "\n",
    "save_path = \"temps/\";"
   ]
  },
  {
   "cell_type": "markdown",
   "metadata": {
    "heading_collapsed": true
   },
   "source": [
    "# Table of Contents"
   ]
  },
  {
   "cell_type": "code",
   "execution_count": 2,
   "metadata": {
    "hidden": true
   },
   "outputs": [
    {
     "data": {
      "application/javascript": [
       "$.getScript('https://kmahelona.github.io/ipython_notebook_goodies/ipython_notebook_toc.js')\n"
      ]
     },
     "metadata": {},
     "output_type": "display_data"
    }
   ],
   "source": [
    "macro javascript_str(s) display(\"text/javascript\", s); end\n",
    "\n",
    "javascript\"\"\"\n",
    "$.getScript('https://kmahelona.github.io/ipython_notebook_goodies/ipython_notebook_toc.js')\n",
    "\"\"\""
   ]
  },
  {
   "cell_type": "markdown",
   "metadata": {
    "heading_collapsed": true
   },
   "source": [
    "# Components"
   ]
  },
  {
   "cell_type": "markdown",
   "metadata": {
    "hidden": true
   },
   "source": [
    "A component is any object in space that has mass. Components can be volumetric, surface, or point objects."
   ]
  },
  {
   "cell_type": "code",
   "execution_count": 44,
   "metadata": {
    "hidden": true
   },
   "outputs": [
    {
     "data": {
      "text/markdown": [
       "```\n",
       "`Component(name::String, object::ObjectTypes; optargs...) <: AbstractComponent`\n",
       "```\n",
       "\n",
       "Defines an object with the location and orientation given by the shape definition of `object`.\n",
       "\n",
       "**OPTIONAL ARGUMENTS**\n",
       "\n",
       "  * `id::Union{Int,String}`       : Component number identifier\n",
       "  * `description::String`         : Useful description\n",
       "  * `comments::String`            : Vent about your life here\n",
       "  * `vendor::String`              : Vendor information\n",
       "  * `cost::Real`                  : Cost of this component\n"
      ],
      "text/plain": [
       "```\n",
       "`Component(name::String, object::ObjectTypes; optargs...) <: AbstractComponent`\n",
       "```\n",
       "\n",
       "Defines an object with the location and orientation given by the shape definition of `object`.\n",
       "\n",
       "**OPTIONAL ARGUMENTS**\n",
       "\n",
       "  * `id::Union{Int,String}`       : Component number identifier\n",
       "  * `description::String`         : Useful description\n",
       "  * `comments::String`            : Vent about your life here\n",
       "  * `vendor::String`              : Vendor information\n",
       "  * `cost::Real`                  : Cost of this component\n"
      ]
     },
     "execution_count": 44,
     "metadata": {},
     "output_type": "execute_result"
    }
   ],
   "source": [
    "? adt.Component"
   ]
  },
  {
   "cell_type": "markdown",
   "metadata": {
    "hidden": true
   },
   "source": [
    "In order to define a componet, first we need to define a shape and a massified object that uses that shape as shown below."
   ]
  },
  {
   "cell_type": "markdown",
   "metadata": {
    "heading_collapsed": true,
    "hidden": true
   },
   "source": [
    "## Shape Definition"
   ]
  },
  {
   "cell_type": "markdown",
   "metadata": {
    "hidden": true
   },
   "source": [
    "A Shape is any set of parameters used for calculating an associated volume, area, and centroid."
   ]
  },
  {
   "cell_type": "code",
   "execution_count": 4,
   "metadata": {
    "hidden": true
   },
   "outputs": [
    {
     "data": {
      "text/markdown": [
       "Implementations of AbstractShape are expected to have the following fields\n",
       "\n",
       "  * `units::String`     : Units of the length dimensions.\n",
       "\n",
       "and the following functions\n",
       "\n",
       "```julia\n",
       "    \"Returns the volume of this shape\"\n",
       "    volume(self::ShapeType) = ...\n",
       "\n",
       "    \"Returns the surface area of this shape\"\n",
       "    area(self::ShapeType) = ...\n",
       "\n",
       "    \"Returns a tuple (x1, x2, x3) with the coordinates of the shape centroid\"\n",
       "    centroid(self::ShapeType) = ...\n",
       "\n",
       "    \"Generates a vtk file with this shape and returns the name of the vtk file\"\n",
       "    save_vtk(self::ShapeType, filename; optargs...) = ...\n",
       "```\n"
      ],
      "text/plain": [
       "Implementations of AbstractShape are expected to have the following fields\n",
       "\n",
       "  * `units::String`     : Units of the length dimensions.\n",
       "\n",
       "and the following functions\n",
       "\n",
       "```julia\n",
       "    \"Returns the volume of this shape\"\n",
       "    volume(self::ShapeType) = ...\n",
       "\n",
       "    \"Returns the surface area of this shape\"\n",
       "    area(self::ShapeType) = ...\n",
       "\n",
       "    \"Returns a tuple (x1, x2, x3) with the coordinates of the shape centroid\"\n",
       "    centroid(self::ShapeType) = ...\n",
       "\n",
       "    \"Generates a vtk file with this shape and returns the name of the vtk file\"\n",
       "    save_vtk(self::ShapeType, filename; optargs...) = ...\n",
       "```\n"
      ]
     },
     "execution_count": 4,
     "metadata": {},
     "output_type": "execute_result"
    }
   ],
   "source": [
    "? adt.AbstractShape"
   ]
  },
  {
   "cell_type": "markdown",
   "metadata": {
    "hidden": true
   },
   "source": [
    "The constant variable `ShapeTypes` contains all the concrete implementations of `AbstractShape` implemented in the module:"
   ]
  },
  {
   "cell_type": "code",
   "execution_count": 5,
   "metadata": {
    "hidden": true
   },
   "outputs": [
    {
     "data": {
      "text/plain": [
       "Union{AircraftDesignTools.ShapeCuboid, AircraftDesignTools.ShapeCyl, AircraftDesignTools.ShapePoint, AircraftDesignTools.ShapeSphere}"
      ]
     },
     "execution_count": 5,
     "metadata": {},
     "output_type": "execute_result"
    }
   ],
   "source": [
    "adt.ShapeTypes"
   ]
  },
  {
   "cell_type": "markdown",
   "metadata": {
    "hidden": true
   },
   "source": [
    "Here are three simple shapes:"
   ]
  },
  {
   "cell_type": "code",
   "execution_count": 6,
   "metadata": {
    "hidden": true
   },
   "outputs": [
    {
     "data": {
      "text/markdown": [
       "```\n",
       "`ShapeCuboid(x1::Real, x2::Real, x3::Real, units::String)`\n",
       "```\n",
       "\n",
       "Cuboid shape formed by six parallelograms (3D rectangle)\n"
      ],
      "text/plain": [
       "```\n",
       "`ShapeCuboid(x1::Real, x2::Real, x3::Real, units::String)`\n",
       "```\n",
       "\n",
       "Cuboid shape formed by six parallelograms (3D rectangle)\n"
      ]
     },
     "execution_count": 6,
     "metadata": {},
     "output_type": "execute_result"
    }
   ],
   "source": [
    "? adt.ShapeCuboid"
   ]
  },
  {
   "cell_type": "code",
   "execution_count": 7,
   "metadata": {
    "hidden": true
   },
   "outputs": [
    {
     "data": {
      "text/markdown": [
       "```\n",
       "`ShapeCyl(r::Real, h::Real, units::String)`\n",
       "```\n",
       "\n",
       "Cylindrical shape\n"
      ],
      "text/plain": [
       "```\n",
       "`ShapeCyl(r::Real, h::Real, units::String)`\n",
       "```\n",
       "\n",
       "Cylindrical shape\n"
      ]
     },
     "execution_count": 7,
     "metadata": {},
     "output_type": "execute_result"
    }
   ],
   "source": [
    "? adt.ShapeCyl"
   ]
  },
  {
   "cell_type": "code",
   "execution_count": 8,
   "metadata": {
    "hidden": true
   },
   "outputs": [
    {
     "data": {
      "text/markdown": [
       "```\n",
       "`ShapeSphere(r::Real, units::String)`\n",
       "```\n",
       "\n",
       "Spherical shape\n"
      ],
      "text/plain": [
       "```\n",
       "`ShapeSphere(r::Real, units::String)`\n",
       "```\n",
       "\n",
       "Spherical shape\n"
      ]
     },
     "execution_count": 8,
     "metadata": {},
     "output_type": "execute_result"
    }
   ],
   "source": [
    "? adt.ShapeSphere"
   ]
  },
  {
   "cell_type": "markdown",
   "metadata": {
    "hidden": true
   },
   "source": [
    "For defining point masses, use the following volume-less shape:"
   ]
  },
  {
   "cell_type": "code",
   "execution_count": 9,
   "metadata": {
    "hidden": true
   },
   "outputs": [
    {
     "data": {
      "text/markdown": [
       "```\n",
       "`ShapePoint(units::String)`\n",
       "```\n",
       "\n",
       "A volume-less point\n"
      ],
      "text/plain": [
       "```\n",
       "`ShapePoint(units::String)`\n",
       "```\n",
       "\n",
       "A volume-less point\n"
      ]
     },
     "execution_count": 9,
     "metadata": {},
     "output_type": "execute_result"
    }
   ],
   "source": [
    "? adt.ShapePoint"
   ]
  },
  {
   "cell_type": "markdown",
   "metadata": {
    "hidden": true
   },
   "source": [
    "In the following example we define a cylinder of unit radius and height. Units can be explicitely specified, otherwise it will default to MKS metric units:"
   ]
  },
  {
   "cell_type": "code",
   "execution_count": 10,
   "metadata": {
    "hidden": true,
    "scrolled": true
   },
   "outputs": [
    {
     "data": {
      "text/plain": [
       "AircraftDesignTools.ShapeCyl{Float64}(1.0, 1.0, \"m\")"
      ]
     },
     "execution_count": 10,
     "metadata": {},
     "output_type": "execute_result"
    }
   ],
   "source": [
    "cyl = ShapeCyl(1.0, 1.0)"
   ]
  },
  {
   "cell_type": "code",
   "execution_count": 11,
   "metadata": {
    "hidden": true,
    "scrolled": true
   },
   "outputs": [
    {
     "data": {
      "text/plain": [
       "AircraftDesignTools.ShapeCyl{Float64}(1.0, 1.0, \"in\")"
      ]
     },
     "execution_count": 11,
     "metadata": {},
     "output_type": "execute_result"
    }
   ],
   "source": [
    "cyl = ShapeCyl(1.0, 1.0, \"in\")"
   ]
  },
  {
   "cell_type": "code",
   "execution_count": 12,
   "metadata": {
    "hidden": true
   },
   "outputs": [
    {
     "name": "stdout",
     "output_type": "stream",
     "text": [
      "Volume:\t\t3.141592653589793in^3\n",
      "Surface area:\t12.566370614359172in^2\n",
      "Centroid:\t(0.0, 0.0, 0.5)in\n"
     ]
    }
   ],
   "source": [
    "println(\"Volume:\\t\\t\",   volume(cyl), volumeunits(cyl))\n",
    "println(\"Surface area:\\t\", area(cyl), areaunits(cyl))\n",
    "println(\"Centroid:\\t\", centroid(cyl), centroidunits(cyl))"
   ]
  },
  {
   "cell_type": "markdown",
   "metadata": {
    "heading_collapsed": true,
    "hidden": true
   },
   "source": [
    "## Massified-Object Definition"
   ]
  },
  {
   "cell_type": "markdown",
   "metadata": {
    "hidden": true
   },
   "source": [
    "An Object is simply a wrapper associating a density of mass to a shape."
   ]
  },
  {
   "cell_type": "code",
   "execution_count": 13,
   "metadata": {
    "hidden": true
   },
   "outputs": [
    {
     "data": {
      "text/markdown": [
       "Implementations of AbstractObject are expected to have the following fields\n",
       "\n",
       "  * `shape::ShapeType`      : Shape of object.\n",
       "  * `density::Real`         : density of object.\n",
       "  * `dunits::String`        : Units of density.\n",
       "\n",
       "and the following functions\n",
       "\n",
       "```julia\n",
       "\n",
       "    \"Returns the mass-normalizing value (volume, area, etc)\"\n",
       "    _v(::Type{O}, shape::S) where {O<:ObjectPoint, S<:ShapeTypes} = ...\n",
       "\n",
       "    \"Returns the mass-normalizing units\"\n",
       "    _vunits(::Type{O}, shape::S) where {O<:ObjectPoint, S<:ShapeTypes} = ...\n",
       "```\n"
      ],
      "text/plain": [
       "Implementations of AbstractObject are expected to have the following fields\n",
       "\n",
       "  * `shape::ShapeType`      : Shape of object.\n",
       "  * `density::Real`         : density of object.\n",
       "  * `dunits::String`        : Units of density.\n",
       "\n",
       "and the following functions\n",
       "\n",
       "```julia\n",
       "\n",
       "    \"Returns the mass-normalizing value (volume, area, etc)\"\n",
       "    _v(::Type{O}, shape::S) where {O<:ObjectPoint, S<:ShapeTypes} = ...\n",
       "\n",
       "    \"Returns the mass-normalizing units\"\n",
       "    _vunits(::Type{O}, shape::S) where {O<:ObjectPoint, S<:ShapeTypes} = ...\n",
       "```\n"
      ]
     },
     "execution_count": 13,
     "metadata": {},
     "output_type": "execute_result"
    }
   ],
   "source": [
    "? adt.AbstractObject"
   ]
  },
  {
   "cell_type": "markdown",
   "metadata": {
    "hidden": true
   },
   "source": [
    "The constant variable `ObjectTypes` contains all the concrete implementations of `AbstractObject` implemented in the module:"
   ]
  },
  {
   "cell_type": "code",
   "execution_count": 14,
   "metadata": {
    "hidden": true
   },
   "outputs": [
    {
     "data": {
      "text/plain": [
       "Union{AircraftDesignTools.ObjectPoint, AircraftDesignTools.ObjectSurf, AircraftDesignTools.ObjectVol}"
      ]
     },
     "execution_count": 14,
     "metadata": {},
     "output_type": "execute_result"
    }
   ],
   "source": [
    "adt.ObjectTypes"
   ]
  },
  {
   "cell_type": "markdown",
   "metadata": {
    "hidden": true
   },
   "source": [
    "There are three implementation associated to objects with mass distributed over a volume, a surface, or a point mass:"
   ]
  },
  {
   "cell_type": "code",
   "execution_count": 15,
   "metadata": {
    "hidden": true
   },
   "outputs": [
    {
     "data": {
      "text/markdown": [
       "```\n",
       "`ObjectVol(shape, density)`\n",
       "```\n",
       "\n",
       "Volumetric object with shape and mass properties assuming uniform density.\n"
      ],
      "text/plain": [
       "```\n",
       "`ObjectVol(shape, density)`\n",
       "```\n",
       "\n",
       "Volumetric object with shape and mass properties assuming uniform density.\n"
      ]
     },
     "execution_count": 15,
     "metadata": {},
     "output_type": "execute_result"
    }
   ],
   "source": [
    "? adt.ObjectVol"
   ]
  },
  {
   "cell_type": "code",
   "execution_count": 16,
   "metadata": {
    "hidden": true
   },
   "outputs": [
    {
     "data": {
      "text/markdown": [
       "```\n",
       "`ObjectVol(shape, density)`\n",
       "```\n",
       "\n",
       "Surface object with shape and mass properties assuming uniform area-based density.\n"
      ],
      "text/plain": [
       "```\n",
       "`ObjectVol(shape, density)`\n",
       "```\n",
       "\n",
       "Surface object with shape and mass properties assuming uniform area-based density.\n"
      ]
     },
     "execution_count": 16,
     "metadata": {},
     "output_type": "execute_result"
    }
   ],
   "source": [
    "? adt.ObjectSurf"
   ]
  },
  {
   "cell_type": "code",
   "execution_count": 17,
   "metadata": {
    "hidden": true
   },
   "outputs": [
    {
     "data": {
      "text/markdown": [
       "```\n",
       "`ObjectPoint(mass)`\n",
       "```\n",
       "\n",
       "A volume-less point object.\n"
      ],
      "text/plain": [
       "```\n",
       "`ObjectPoint(mass)`\n",
       "```\n",
       "\n",
       "A volume-less point object.\n"
      ]
     },
     "execution_count": 17,
     "metadata": {},
     "output_type": "execute_result"
    }
   ],
   "source": [
    "? adt.ObjectPoint"
   ]
  },
  {
   "cell_type": "markdown",
   "metadata": {
    "hidden": true
   },
   "source": [
    "The following example defines a $1\\times2\\times3\\,\\mathrm{m}^3$ block of styrofoam ($50\\,\\mathrm{kg/m^3}$ density)"
   ]
  },
  {
   "cell_type": "code",
   "execution_count": 18,
   "metadata": {
    "hidden": true
   },
   "outputs": [
    {
     "data": {
      "text/plain": [
       "AircraftDesignTools.ObjectVol{AircraftDesignTools.ShapeCuboid{Float64},Float64}(AircraftDesignTools.ShapeCuboid{Float64}(1.0, 2.0, 3.0, \"m\"), 50.0, \"kg/m^3\")"
      ]
     },
     "execution_count": 18,
     "metadata": {},
     "output_type": "execute_result"
    }
   ],
   "source": [
    "block = ShapeCuboid(1.0, 2.0, 3.0)\n",
    "density = 50.0\n",
    "styblock = ObjectVol(block, density)"
   ]
  },
  {
   "cell_type": "code",
   "execution_count": 19,
   "metadata": {
    "hidden": true
   },
   "outputs": [
    {
     "name": "stdout",
     "output_type": "stream",
     "text": [
      "Mass:\t\t\t300.0kg\n",
      "Center of gravity:\t(0.5, 1.0, 1.5)m\n"
     ]
    }
   ],
   "source": [
    "println(\"Mass:\\t\\t\\t\",   mass(styblock), massunits(styblock))\n",
    "println(\"Center of gravity:\\t\", cg(styblock), cgunits(styblock))"
   ]
  },
  {
   "cell_type": "markdown",
   "metadata": {
    "hidden": true
   },
   "source": [
    "In the example the units default to MKS metric, but they can also be explicitely declared:"
   ]
  },
  {
   "cell_type": "code",
   "execution_count": 20,
   "metadata": {
    "hidden": true
   },
   "outputs": [
    {
     "data": {
      "text/plain": [
       "AircraftDesignTools.ObjectVol{AircraftDesignTools.ShapeCuboid{Float64},Float64}(AircraftDesignTools.ShapeCuboid{Float64}(100.0, 200.0, 300.0, \"cm\"), 0.05, \"g/cm^3\")"
      ]
     },
     "execution_count": 20,
     "metadata": {},
     "output_type": "execute_result"
    }
   ],
   "source": [
    "block = ShapeCuboid(100.0, 200.0, 300.0, \"cm\")\n",
    "density = 0.05\n",
    "styblock = ObjectVol(block, density, \"g/cm^3\")"
   ]
  },
  {
   "cell_type": "code",
   "execution_count": 21,
   "metadata": {
    "hidden": true
   },
   "outputs": [
    {
     "name": "stdout",
     "output_type": "stream",
     "text": [
      "Mass:\t\t\t300000.0g\n",
      "Center of gravity:\t(50.0, 100.0, 150.0)cm\n"
     ]
    }
   ],
   "source": [
    "println(\"Mass:\\t\\t\\t\",   mass(styblock), massunits(styblock))\n",
    "println(\"Center of gravity:\\t\", cg(styblock), cgunits(styblock))"
   ]
  },
  {
   "cell_type": "markdown",
   "metadata": {
    "hidden": true
   },
   "source": [
    "When we are defining hollow objects is convenient to work with area-density rather than volumetric density, which can be done through the `ObjectSurf` Object. For instance, here I define a $5''\\times5''\\times20''$ box made out of cloroplast cardboard:"
   ]
  },
  {
   "cell_type": "code",
   "execution_count": 22,
   "metadata": {
    "hidden": true
   },
   "outputs": [
    {
     "data": {
      "text/plain": [
       "AircraftDesignTools.ObjectSurf{AircraftDesignTools.ShapeCuboid{Float64},Float64}(AircraftDesignTools.ShapeCuboid{Float64}(5.0, 5.0, 20.0, \"in\"), 0.00068698539, \"lb/in^2\")"
      ]
     },
     "execution_count": 22,
     "metadata": {},
     "output_type": "execute_result"
    }
   ],
   "source": [
    "box = ShapeCuboid(5.0, 5.0, 20.0, \"in\")\n",
    "density = 0.00068698539\n",
    "cardboardbox = ObjectSurf(box, density, \"lb/in^2\")"
   ]
  },
  {
   "cell_type": "code",
   "execution_count": 23,
   "metadata": {
    "hidden": true
   },
   "outputs": [
    {
     "name": "stdout",
     "output_type": "stream",
     "text": [
      "Mass:\t\t\t0.3091434255lb\n",
      "Center of gravity:\t(2.5, 2.5, 10.0)in\n"
     ]
    }
   ],
   "source": [
    "println(\"Mass:\\t\\t\\t\",   mass(cardboardbox), massunits(cardboardbox))\n",
    "println(\"Center of gravity:\\t\", cg(cardboardbox), cgunits(cardboardbox))"
   ]
  },
  {
   "cell_type": "markdown",
   "metadata": {
    "hidden": true
   },
   "source": [
    "If you know the mass and shape of a component, you can define the object directly from the mass through `object_from_mass(shape, mass)`:"
   ]
  },
  {
   "cell_type": "code",
   "execution_count": 24,
   "metadata": {
    "hidden": true
   },
   "outputs": [
    {
     "data": {
      "text/markdown": [
       "```\n",
       "`object_from_mass(shape::AbstractShape, mass::Real;\n",
       "objecttype=ObjectVol{S, R}, massunits=\"kg\")`\n",
       "```\n",
       "\n",
       "Returns an object of type `objecttype` where the density is calculated from the given mass and shape.\n"
      ],
      "text/plain": [
       "```\n",
       "`object_from_mass(shape::AbstractShape, mass::Real;\n",
       "objecttype=ObjectVol{S, R}, massunits=\"kg\")`\n",
       "```\n",
       "\n",
       "Returns an object of type `objecttype` where the density is calculated from the given mass and shape.\n"
      ]
     },
     "execution_count": 24,
     "metadata": {},
     "output_type": "execute_result"
    }
   ],
   "source": [
    "? adt.object_from_mass"
   ]
  },
  {
   "cell_type": "markdown",
   "metadata": {
    "hidden": true
   },
   "source": [
    "For instance, here I define a motor from the dimensions and weight that they report in HobbyKing:"
   ]
  },
  {
   "cell_type": "code",
   "execution_count": 25,
   "metadata": {
    "hidden": true
   },
   "outputs": [
    {
     "data": {
      "text/plain": [
       "AircraftDesignTools.ObjectVol{AircraftDesignTools.ShapeCyl{Float64},Float64}(AircraftDesignTools.ShapeCyl{Float64}(1.25, 2.0, \"cm\"), 5.296676506098277, \"g/cm^3\")"
      ]
     },
     "execution_count": 25,
     "metadata": {},
     "output_type": "execute_result"
    }
   ],
   "source": [
    "motor_shape = ShapeCyl(\n",
    "                        2.5/2,                      # (cm) radius\n",
    "                        2.0,                        # (cm) height\n",
    "                        \"cm\"\n",
    "                       )\n",
    "motor_obj = object_from_mass(\n",
    "                        motor_shape,\n",
    "                        52.0;                       # (g) mass\n",
    "                        massunits=\"g\"\n",
    "                       )"
   ]
  },
  {
   "cell_type": "code",
   "execution_count": 26,
   "metadata": {
    "hidden": true
   },
   "outputs": [
    {
     "name": "stdout",
     "output_type": "stream",
     "text": [
      "Density:\t\t5.296676506098277g/cm^3\n",
      "Mass:\t\t\t52.0g\n",
      "Center of gravity:\t(0.0, 0.0, 1.0)cm\n"
     ]
    }
   ],
   "source": [
    "println(\"Density:\\t\\t\", motor_obj.density, motor_obj.dunits)\n",
    "println(\"Mass:\\t\\t\\t\",   mass(motor_obj), massunits(motor_obj))\n",
    "println(\"Center of gravity:\\t\", cg(motor_obj), cgunits(motor_obj))"
   ]
  },
  {
   "cell_type": "markdown",
   "metadata": {
    "hidden": true
   },
   "source": [
    "The way that the mass distributes over the object (i.e., volumetric, surface, or point distribution) can be specified through the keyword `objecttype`. For instance, here I define the same motor as a point mass:"
   ]
  },
  {
   "cell_type": "code",
   "execution_count": 27,
   "metadata": {
    "hidden": true
   },
   "outputs": [
    {
     "data": {
      "text/plain": [
       "AircraftDesignTools.ObjectPoint{AircraftDesignTools.ShapePoint{Float64},Float64}(AircraftDesignTools.ShapePoint{Float64}(\"\"), 52.0, \"g\")"
      ]
     },
     "execution_count": 27,
     "metadata": {},
     "output_type": "execute_result"
    }
   ],
   "source": [
    "motor_shape = ShapePoint()\n",
    "motor_obj = object_from_mass(\n",
    "                        motor_shape,\n",
    "                        52.0;                       # (g) mass\n",
    "                        massunits=\"g\",\n",
    "                        objecttype=ObjectPoint\n",
    "                       )"
   ]
  },
  {
   "cell_type": "code",
   "execution_count": 28,
   "metadata": {
    "hidden": true
   },
   "outputs": [
    {
     "name": "stdout",
     "output_type": "stream",
     "text": [
      "Density:\t\t52.0g\n",
      "Mass:\t\t\t52.0g\n",
      "Center of gravity:\t(0.0, 0.0, 0.0)\n"
     ]
    }
   ],
   "source": [
    "println(\"Density:\\t\\t\", motor_obj.density, motor_obj.dunits)\n",
    "println(\"Mass:\\t\\t\\t\",   mass(motor_obj), massunits(motor_obj))\n",
    "println(\"Center of gravity:\\t\", cg(motor_obj), cgunits(motor_obj))"
   ]
  },
  {
   "cell_type": "markdown",
   "metadata": {
    "heading_collapsed": true,
    "hidden": true
   },
   "source": [
    "## Component Definition"
   ]
  },
  {
   "cell_type": "markdown",
   "metadata": {
    "hidden": true
   },
   "source": [
    "Components are massified shapes located and oriented in space, allowing to create a system of components with a common center of gravity that changes as the components move in space. Also, components carry technical information (it is all soft data, meaning that no computation is performed on such data), allowing to create bill of materials and cost analyses."
   ]
  },
  {
   "cell_type": "code",
   "execution_count": 29,
   "metadata": {
    "hidden": true
   },
   "outputs": [
    {
     "data": {
      "text/markdown": [
       "```\n",
       "`AbstractComponent`\n",
       "```\n",
       "\n",
       "Implementations of AbstractComponent are expected to have the following fields\n",
       "\n",
       "  * `name::String`                : Name of this component\n",
       "  * `subcomponents`               : Subcomponents that make this component\n",
       "  * `id::Union{Int,String}`       : Component number identifier\n",
       "  * `description::String`         : Useful description\n",
       "  * `comments::String`            : Vent about your life here\n",
       "  * `vendor::String`              : Vendor information\n",
       "  * `cost::Real`                  : Cost of this component\n",
       "\n",
       "and the following functions\n",
       "\n",
       "```julia\n",
       "    \"Saves a vtk file of this component and returns a string with file names\"\n",
       "    save_shape(cmp::ComponentType, file_name; path=\"\", num=-1) = ...\n",
       "\n",
       "    \"Returns the number of items that make this component\"\n",
       "    Base.length(cmp::ComponentType) = ...\n",
       "```\n"
      ],
      "text/plain": [
       "```\n",
       "`AbstractComponent`\n",
       "```\n",
       "\n",
       "Implementations of AbstractComponent are expected to have the following fields\n",
       "\n",
       "  * `name::String`                : Name of this component\n",
       "  * `subcomponents`               : Subcomponents that make this component\n",
       "  * `id::Union{Int,String}`       : Component number identifier\n",
       "  * `description::String`         : Useful description\n",
       "  * `comments::String`            : Vent about your life here\n",
       "  * `vendor::String`              : Vendor information\n",
       "  * `cost::Real`                  : Cost of this component\n",
       "\n",
       "and the following functions\n",
       "\n",
       "```julia\n",
       "    \"Saves a vtk file of this component and returns a string with file names\"\n",
       "    save_shape(cmp::ComponentType, file_name; path=\"\", num=-1) = ...\n",
       "\n",
       "    \"Returns the number of items that make this component\"\n",
       "    Base.length(cmp::ComponentType) = ...\n",
       "```\n"
      ]
     },
     "execution_count": 29,
     "metadata": {},
     "output_type": "execute_result"
    }
   ],
   "source": [
    "? adt.AbstractComponent"
   ]
  },
  {
   "cell_type": "markdown",
   "metadata": {
    "hidden": true
   },
   "source": [
    "The constant variable `ComponentTypes` contains all the concrete implementations of `AbstractComponent` implemented in the module:"
   ]
  },
  {
   "cell_type": "code",
   "execution_count": 30,
   "metadata": {
    "hidden": true
   },
   "outputs": [
    {
     "data": {
      "text/plain": [
       "Union{AircraftDesignTools.Component, AircraftDesignTools.System}"
      ]
     },
     "execution_count": 30,
     "metadata": {},
     "output_type": "execute_result"
    }
   ],
   "source": [
    "adt.ComponentTypes"
   ]
  },
  {
   "cell_type": "markdown",
   "metadata": {
    "hidden": true
   },
   "source": [
    "`Component` is the basic data structure of an object in space defining its own implicit local coordinate system. `System` allows to define a system of components or a system of systems. Notice that a system is defined as an `AbstractComponent`, meaning that conceptually a system is simply a component made out of subcomponents. A system defines a local coordinate system where its subcomponents are placed relative to each other. `System` will be explained in the next section."
   ]
  },
  {
   "cell_type": "code",
   "execution_count": 31,
   "metadata": {
    "hidden": true
   },
   "outputs": [
    {
     "data": {
      "text/markdown": [
       "```\n",
       "`Component(name::String, object::ObjectTypes; optargs...) <: AbstractComponent`\n",
       "```\n",
       "\n",
       "Defines an object with the location and orientation given by the shape definition of `object`.\n",
       "\n",
       "**OPTIONAL ARGUMENTS**\n",
       "\n",
       "  * `id::Union{Int,String}`       : Component number identifier\n",
       "  * `description::String`         : Useful description\n",
       "  * `comments::String`            : Vent about your life here\n",
       "  * `vendor::String`              : Vendor information\n",
       "  * `cost::Real`                  : Cost of this component\n"
      ],
      "text/plain": [
       "```\n",
       "`Component(name::String, object::ObjectTypes; optargs...) <: AbstractComponent`\n",
       "```\n",
       "\n",
       "Defines an object with the location and orientation given by the shape definition of `object`.\n",
       "\n",
       "**OPTIONAL ARGUMENTS**\n",
       "\n",
       "  * `id::Union{Int,String}`       : Component number identifier\n",
       "  * `description::String`         : Useful description\n",
       "  * `comments::String`            : Vent about your life here\n",
       "  * `vendor::String`              : Vendor information\n",
       "  * `cost::Real`                  : Cost of this component\n"
      ]
     },
     "execution_count": 31,
     "metadata": {},
     "output_type": "execute_result"
    }
   ],
   "source": [
    "? adt.Component"
   ]
  },
  {
   "cell_type": "markdown",
   "metadata": {
    "hidden": true
   },
   "source": [
    "In the following example we define a 1000kv brushless motor:"
   ]
  },
  {
   "cell_type": "code",
   "execution_count": 32,
   "metadata": {
    "hidden": true
   },
   "outputs": [
    {
     "data": {
      "text/html": [
       "<table class=\"data-frame\"><thead><tr><th></th><th>Name</th><th>ID</th><th>Subcomponents</th><th>Description</th><th>Comments</th><th>Vendor</th><th>$/unit</th><th>Units</th><th>Total cost ($)</th></tr></thead><tbody><tr><th>1</th><td>Motor</td><td>motor1000kv</td><td></td><td>Turnigy D2830-11 1000kv Brushless Motor</td><td>1000kv, requires 30A ESC, suggested prop 8x4 (4S) ~ 10x7 (2S) </td><td>https://hobbyking.com/en_us/d2830-11-1000kv-brushless-motor.html</td><td>11</td><td>1</td><td>11</td></tr></tbody></table>"
      ],
      "text/plain": [
       "1×9 DataFrames.DataFrame. Omitted printing of 6 columns\n",
       "│ Row │ Name  │ ID          │ Subcomponents │\n",
       "├─────┼───────┼─────────────┼───────────────┤\n",
       "│ 1   │ Motor │ motor1000kv │               │"
      ]
     },
     "execution_count": 32,
     "metadata": {},
     "output_type": "execute_result"
    }
   ],
   "source": [
    "# Shape of the motor\n",
    "motor1000kv_shape = ShapeCyl(\n",
    "                        2.5/2 / 100,                # (m) radius\n",
    "                        2 / 100,                    # (m) height\n",
    "                        \"m\"\n",
    "                       )\n",
    "\n",
    "# Massified object of the motor\n",
    "motor1000kv_obj = object_from_mass(\n",
    "                        motor1000kv_shape,\n",
    "                        52 / 1000;                  # (kg) mass\n",
    "                        massunits=\"kg\"\n",
    "                       )\n",
    "\n",
    "# Component definition\n",
    "motor1000kv = Component(\n",
    "                        \"Motor\",                    # Name\n",
    "                        motor1000kv_obj;            # Object\n",
    "                        id=\"motor1000kv\",           # Identifier\n",
    "                        # Extra information\n",
    "                        description=\"Turnigy D2830-11 1000kv Brushless Motor\",\n",
    "                        comments=\"1000kv, requires 30A ESC, suggested prop 8x4 (4S) ~ 10x7 (2S) \",\n",
    "                        vendor=\"https://hobbyking.com/en_us/d2830-11-1000kv-brushless-motor.html\",\n",
    "                        cost=11\n",
    "                       )"
   ]
  },
  {
   "cell_type": "markdown",
   "metadata": {},
   "source": [
    "# Systems"
   ]
  },
  {
   "cell_type": "markdown",
   "metadata": {},
   "source": [
    "`System` allows to define a system of components or a system of systems. Notice that a system is defined as an `AbstractComponent`, meaning that conceptually a system is simply a component made out of subcomponents. A system defines a local coordinate system where its subcomponents are placed relative to each other."
   ]
  },
  {
   "cell_type": "code",
   "execution_count": 33,
   "metadata": {},
   "outputs": [
    {
     "data": {
      "text/markdown": [
       "```\n",
       "`System(name::String, components::Array{AbstractComponent, 1}; optargs...) <: AbstractComponent`\n",
       "```\n",
       "\n",
       "Defines a system made out of components. This allows for recursive definition of systems holding other systems as subcomponents.\n",
       "\n",
       "**OPTIONAL ARGUMENTS**\n",
       "\n",
       "  * `id::Union{Int,String}`       : System number identifier\n",
       "  * `subO::Array{Array{T1, 1}, 1}`     : Origin of subcomps coordinate systems\n",
       "  * `subOaxis::Array{Array{T2, 2}, 1}` : Orientation of subcomps coordinate sytems\n",
       "  * `description::String`         : Useful description\n",
       "  * `comments::String`            : Vent about your life here\n",
       "  * `vendor::String`              : Vendor information\n",
       "\n",
       "NOTE: `subO[i]` contains the origin of the i-th subcomponent in the coordinate system of the system. `subOaxis[i]` contains the orientation of the i-th subcomponent in the coordinate system of the system, with `subOaxis[i][j, :]` the direction of the j-th unitary vector. For example, a cylinder shape originally has centerline aligned with the z-axis with its lower face centered at the origin. If we wanted to center it half way its length and align its centerline with the x-axis we would give it `O = [-h/2, 0, 0]` and `Oaxis = [0 1 0; 0 0 1; 1 0 0]`\n",
       "\n",
       "SEE ROTOR POD EXAMPLE IN DOCUMENTATION.\n"
      ],
      "text/plain": [
       "```\n",
       "`System(name::String, components::Array{AbstractComponent, 1}; optargs...) <: AbstractComponent`\n",
       "```\n",
       "\n",
       "Defines a system made out of components. This allows for recursive definition of systems holding other systems as subcomponents.\n",
       "\n",
       "**OPTIONAL ARGUMENTS**\n",
       "\n",
       "  * `id::Union{Int,String}`       : System number identifier\n",
       "  * `subO::Array{Array{T1, 1}, 1}`     : Origin of subcomps coordinate systems\n",
       "  * `subOaxis::Array{Array{T2, 2}, 1}` : Orientation of subcomps coordinate sytems\n",
       "  * `description::String`         : Useful description\n",
       "  * `comments::String`            : Vent about your life here\n",
       "  * `vendor::String`              : Vendor information\n",
       "\n",
       "NOTE: `subO[i]` contains the origin of the i-th subcomponent in the coordinate system of the system. `subOaxis[i]` contains the orientation of the i-th subcomponent in the coordinate system of the system, with `subOaxis[i][j, :]` the direction of the j-th unitary vector. For example, a cylinder shape originally has centerline aligned with the z-axis with its lower face centered at the origin. If we wanted to center it half way its length and align its centerline with the x-axis we would give it `O = [-h/2, 0, 0]` and `Oaxis = [0 1 0; 0 0 1; 1 0 0]`\n",
       "\n",
       "SEE ROTOR POD EXAMPLE IN DOCUMENTATION.\n"
      ]
     },
     "execution_count": 33,
     "metadata": {},
     "output_type": "execute_result"
    }
   ],
   "source": [
    "? adt.System"
   ]
  },
  {
   "cell_type": "markdown",
   "metadata": {
    "heading_collapsed": true
   },
   "source": [
    "## Example &ndash; Component Database"
   ]
  },
  {
   "cell_type": "markdown",
   "metadata": {
    "hidden": true
   },
   "source": [
    "I have implemented a tabulated way of displaying system and components, which is convenient for listing and comparing components. In its most simplistic usage, a system can we used as a database of all the components available for design. For example, in the following lines we define three types of motors and one propeller, and we include all of the into a System that represents the database of all components available for design."
   ]
  },
  {
   "cell_type": "code",
   "execution_count": 34,
   "metadata": {
    "hidden": true
   },
   "outputs": [
    {
     "data": {
      "text/html": [
       "<table class=\"data-frame\"><thead><tr><th></th><th>Name</th><th>ID</th><th>Subcomponents</th><th>Description</th><th>Comments</th><th>Vendor</th><th>$/unit</th><th>Units</th><th>Total cost ($)</th></tr></thead><tbody><tr><th>1</th><td>Component database</td><td>-1</td><td>Motor 1000kv, Motor 3040kv, Motor 192kv, Propeller</td><td>Database of technology available</td><td></td><td></td><td>134.56</td><td>1</td><td>134.56</td></tr><tr><th>2</th><td>Motor 1000kv</td><td>motor1000kv</td><td></td><td>Turnigy D2830-11 1000kv Brushless Motor</td><td>1000kv, requires 30A ESC, suggested prop 8x4 (4S) ~ 10x7 (2S) </td><td>https://hobbyking.com/en_us/d2830-11-1000kv-brushless-motor.html</td><td>11</td><td>1</td><td>11</td></tr><tr><th>3</th><td>Motor 3040kv</td><td>motor3040kv</td><td></td><td>Turnigy TrackStar 13.5T Sensored Brushless Motor 3040KV</td><td>3040kv, max 36A ESC, </td><td>https://hobbyking.com/en_us/turnigy-trackstar-13-5t-sensored-brushless-motor-3040kv-roar-approved.html</td><td>35.26</td><td>1</td><td>35.26</td></tr><tr><th>4</th><td>Motor 192kv</td><td>motor192kv</td><td></td><td>Turnigy Aerodrive SK3 - 6374-192KV Brushless Outrunner Motor</td><td>192kv, max 80A ESC, </td><td>https://hobbyking.com/en_us/turnigy-aerodrive-sk3-6374-192kv-brushless-outrunner-motor.html</td><td>85.85</td><td>1</td><td>85.85</td></tr><tr><th>5</th><td>Propeller</td><td>prop8x4</td><td></td><td>APC 8x4.7 slow-flyer ropeller</td><td></td><td>https://www.apcprop.com/product/8x4-7sf/</td><td>2.45</td><td>1</td><td>2.45</td></tr></tbody></table>"
      ],
      "text/plain": [
       "5×9 DataFrames.DataFrame. Omitted printing of 7 columns\n",
       "│ Row │ Name               │ ID          │\n",
       "├─────┼────────────────────┼─────────────┤\n",
       "│ 1   │ Component database │ -1          │\n",
       "│ 2   │ Motor 1000kv       │ motor1000kv │\n",
       "│ 3   │ Motor 3040kv       │ motor3040kv │\n",
       "│ 4   │ Motor 192kv        │ motor192kv  │\n",
       "│ 5   │ Propeller          │ prop8x4     │"
      ]
     },
     "execution_count": 34,
     "metadata": {},
     "output_type": "execute_result"
    }
   ],
   "source": [
    "# Motor #1\n",
    "motor1000kv_shape = ShapeCyl(\n",
    "                        2.5/2 / 100,                # (m) radius\n",
    "                        2 / 100,                    # (m) height\n",
    "                        \"m\"\n",
    "                       )\n",
    "motor1000kv_obj = object_from_mass(\n",
    "                        motor1000kv_shape,\n",
    "                        52 / 1000;                  # (kg) mass\n",
    "                        massunits=\"kg\"\n",
    "                       )\n",
    "motor1000kv = Component(\n",
    "                        \"Motor 1000kv\",             # Name\n",
    "                        motor1000kv_obj;            # Object\n",
    "                        id=\"motor1000kv\",           # Identifier\n",
    "                        description=\"Turnigy D2830-11 1000kv Brushless Motor\",\n",
    "                        comments=\"1000kv, requires 30A ESC, \"*\n",
    "                                    \"suggested prop 8x4 (4S) ~ 10x7 (2S) \",\n",
    "                        vendor=\"https://hobbyking.com/en_us/d2830-11-1000kv-brushless-motor.html\",\n",
    "                        cost=11\n",
    "                       )\n",
    "\n",
    "# Motor #2\n",
    "motor3040kv_shape = ShapeCyl(\n",
    "                        36/2 / 1000,                # (m) radius\n",
    "                        53 / 1000,                  # (m) height\n",
    "                        \"m\"\n",
    "                       )\n",
    "motor3040kv_obj = object_from_mass(\n",
    "                        motor3040kv_shape,\n",
    "                        178 / 1000;                 # (kg) mass\n",
    "                        massunits=\"kg\"\n",
    "                       )\n",
    "motor3040kv = Component(\n",
    "                        \"Motor 3040kv\",             # Name\n",
    "                        motor3040kv_obj;            # Object\n",
    "                        id=\"motor3040kv\",           # Identifier\n",
    "                        description=\"Turnigy TrackStar 13.5T Sensored Brushless Motor 3040KV\",\n",
    "                        comments=\"3040kv, max 36A ESC, \",\n",
    "                        vendor=\"https://hobbyking.com/en_us/turnigy-trackstar-13-5t-sensored-brushless-motor-3040kv-roar-approved.html\",\n",
    "                        cost=35.26\n",
    "                       )\n",
    "\n",
    "# Motor #3\n",
    "motor192kv_shape = ShapePoint()\n",
    "motor192kv_obj = object_from_mass(\n",
    "                        motor192kv_shape,\n",
    "                        858 / 1000;                 # (kg) mass\n",
    "                        massunits=\"kg\",\n",
    "                        objecttype=ObjectPoint\n",
    "                       )\n",
    "motor192kv = Component(\n",
    "                        \"Motor 192kv\",             # Name\n",
    "                        motor192kv_obj;            # Object\n",
    "                        id=\"motor192kv\",           # Identifier\n",
    "                        description=\"Turnigy Aerodrive SK3 - 6374-192KV Brushless Outrunner Motor\",\n",
    "                        comments=\"192kv, max 80A ESC, \",\n",
    "                        vendor=\"https://hobbyking.com/en_us/turnigy-aerodrive-sk3-6374-192kv-brushless-outrunner-motor.html\",\n",
    "                        cost=85.85\n",
    "                       )\n",
    "\n",
    "# Propeller\n",
    "prop8x4_shape = ShapeCyl( # Describes the prop geometry as disk\n",
    "                        2.54*8/2 / 100,             # (m) radius\n",
    "                        2.54*0.3/2 / 100,           # (m) height\n",
    "                        \"m\"\n",
    "                       )\n",
    "prop8x4_obj = object_from_mass(\n",
    "                        prop8x4_shape,\n",
    "                        0.25*28.3495 / 1000;        # (kg) mass\n",
    "                        massunits=\"kg\"\n",
    "                       )\n",
    "prop8x4 = Component(\n",
    "                        \"Propeller\",                # Name\n",
    "                        prop8x4_obj;                # Object\n",
    "                        id=\"prop8x4\",               # Identifier\n",
    "                        description=\"APC 8x4.7 slow-flyer ropeller\",\n",
    "                        comments=\"\",\n",
    "                        vendor=\"https://www.apcprop.com/product/8x4-7sf/\",\n",
    "                        cost=2.45\n",
    "                       )\n",
    "\n",
    "\n",
    "# Component database\n",
    "componentdatabase = System(\n",
    "                        \"Component database\",        # Name\n",
    "                        [motor1000kv, motor3040kv, motor192kv, prop8x4]; # Subcomponents\n",
    "                        description=\"Database of technology available\"\n",
    "              )"
   ]
  },
  {
   "cell_type": "markdown",
   "metadata": {
    "heading_collapsed": true
   },
   "source": [
    "## Example &ndash; Rotor Pod: Translation and Rotations"
   ]
  },
  {
   "cell_type": "markdown",
   "metadata": {
    "hidden": true
   },
   "source": [
    "Here we define a rotor pod comprised of a motor and propeller. In this example we rotate the centerline of both motr and propeller to be aligned with the x-axis, and we place the propeller flush to the motor face."
   ]
  },
  {
   "cell_type": "markdown",
   "metadata": {
    "hidden": true
   },
   "source": [
    "<img src=\"img/rotorpod00.png\" alt=\"Pic here\" style=\"width: 900px;\"/>"
   ]
  },
  {
   "cell_type": "code",
   "execution_count": 35,
   "metadata": {
    "hidden": true
   },
   "outputs": [
    {
     "data": {
      "text/html": [
       "<table class=\"data-frame\"><thead><tr><th></th><th>Name</th><th>ID</th><th>Subcomponents</th><th>Description</th><th>Comments</th><th>Vendor</th><th>$/unit</th><th>Units</th><th>Total cost ($)</th></tr></thead><tbody><tr><th>1</th><td>Rotor pod</td><td>rotpod</td><td>Motor 1000kv, Propeller</td><td></td><td></td><td></td><td>13.45</td><td>1</td><td>13.45</td></tr><tr><th>2</th><td>Motor 1000kv</td><td>motor1000kv</td><td></td><td>Turnigy D2830-11 1000kv Brushless Motor</td><td>1000kv, requires 30A ESC, suggested prop 8x4 (4S) ~ 10x7 (2S) </td><td>https://hobbyking.com/en_us/d2830-11-1000kv-brushless-motor.html</td><td>11</td><td>1</td><td>11</td></tr><tr><th>3</th><td>Propeller</td><td>prop8x4</td><td></td><td>APC 8x4.7 slow-flyer ropeller</td><td></td><td>https://www.apcprop.com/product/8x4-7sf/</td><td>2.45</td><td>1</td><td>2.45</td></tr></tbody></table>"
      ],
      "text/plain": [
       "3×9 DataFrames.DataFrame. Omitted printing of 6 columns\n",
       "│ Row │ Name         │ ID          │ Subcomponents           │\n",
       "├─────┼──────────────┼─────────────┼─────────────────────────┤\n",
       "│ 1   │ Rotor pod    │ rotpod      │ Motor 1000kv, Propeller │\n",
       "│ 2   │ Motor 1000kv │ motor1000kv │                         │\n",
       "│ 3   │ Propeller    │ prop8x4     │                         │"
      ]
     },
     "execution_count": 35,
     "metadata": {},
     "output_type": "execute_result"
    }
   ],
   "source": [
    "# Define system\n",
    "rotorpod = System(\n",
    "                        \"Rotor pod\",                # Name\n",
    "                        [motor1000kv, prop8x4];     # Subcomponents\n",
    "                        id=\"rotpod\",                # Identifier\n",
    "    \n",
    "                        # Orientation of motor and prop: centerline (z-axis) \n",
    "                        # aligned with x-axis\n",
    "                        subOaxis = [[0 1 0; 0 0 1; 1 0 0], [0 1 0; 0 0 1; 1 0 0]],\n",
    "    \n",
    "                        # Position of motor and prop: Rotor flush with motor face\n",
    "                        subO=[zeros(3), [-prop8x4.subcomponents.shape.h, 0, 0]]\n",
    "               )"
   ]
  },
  {
   "cell_type": "markdown",
   "metadata": {
    "hidden": true
   },
   "source": [
    "Also, instead of defining the orientation `Oaxis` manually, we can use the `rotation_matrix()` to generate orientation matrices:"
   ]
  },
  {
   "cell_type": "code",
   "execution_count": 36,
   "metadata": {
    "hidden": true
   },
   "outputs": [
    {
     "name": "stdout",
     "output_type": "stream",
     "text": [
      "search: \u001b[1mr\u001b[22m\u001b[1mo\u001b[22m\u001b[1mt\u001b[22m\u001b[1ma\u001b[22m\u001b[1mt\u001b[22m\u001b[1mi\u001b[22m\u001b[1mo\u001b[22m\u001b[1mn\u001b[22m\u001b[1m_\u001b[22m\u001b[1mm\u001b[22m\u001b[1ma\u001b[22m\u001b[1mt\u001b[22m\u001b[1mr\u001b[22m\u001b[1mi\u001b[22m\u001b[1mx\u001b[22m\n",
      "\n"
     ]
    },
    {
     "data": {
      "text/markdown": [
       "`rotation_matrix(roll::Real, pitch::Real, yaw::Real)`\n",
       "\n",
       "Receives yaw, pitch, and roll angles (in degrees) and returns the rotation matrix corresponding to this rotation. (see http://planning.cs.uiuc.edu/node102.html)\n",
       "\n",
       "NOTE: Naming follows aircraft convention, with\n",
       "\n",
       "  * roll:   rotation about x-axis.\n",
       "  * pitch:  rotation about y-axis.\n",
       "  * yaw:    rotation about z-axis.\n",
       "\n",
       "**Examples**\n",
       "\n",
       "```jldoctest\n",
       "julia> M = gt.rotation_matrix(90, 0, 0)\n",
       "3×3 Array{Float64,2}:\n",
       "  1.0  0.0   0.0\n",
       "  0.0  0.0  -1.0\n",
       "  0.0  1.0   0.0\n",
       "\n",
       "julia> X = [0, 1, 0];\n",
       "julia> Xp = M*X\n",
       "3-element Array{Float64,1}:\n",
       "  0.0\n",
       "  0.0\n",
       "  1.0\n",
       "\n",
       "julia> M = gt.rotation_matrix(0, 45, 45)\n",
       "3×3 Array{Float64,2}:\n",
       "  0.5    -0.707  0.5\n",
       "  0.5     0.707  0.5\n",
       " -0.707   0.0    0.707\n",
       "\n",
       "julia> X = [1, 0, 0];\n",
       "julia> Xp = M*X\n",
       "3-element Array{Float64,1}:\n",
       "  0.5\n",
       "  0.5\n",
       " -0.707\n",
       "```\n"
      ],
      "text/plain": [
       "`rotation_matrix(roll::Real, pitch::Real, yaw::Real)`\n",
       "\n",
       "Receives yaw, pitch, and roll angles (in degrees) and returns the rotation matrix corresponding to this rotation. (see http://planning.cs.uiuc.edu/node102.html)\n",
       "\n",
       "NOTE: Naming follows aircraft convention, with\n",
       "\n",
       "  * roll:   rotation about x-axis.\n",
       "  * pitch:  rotation about y-axis.\n",
       "  * yaw:    rotation about z-axis.\n",
       "\n",
       "**Examples**\n",
       "\n",
       "```jldoctest\n",
       "julia> M = gt.rotation_matrix(90, 0, 0)\n",
       "3×3 Array{Float64,2}:\n",
       "  1.0  0.0   0.0\n",
       "  0.0  0.0  -1.0\n",
       "  0.0  1.0   0.0\n",
       "\n",
       "julia> X = [0, 1, 0];\n",
       "julia> Xp = M*X\n",
       "3-element Array{Float64,1}:\n",
       "  0.0\n",
       "  0.0\n",
       "  1.0\n",
       "\n",
       "julia> M = gt.rotation_matrix(0, 45, 45)\n",
       "3×3 Array{Float64,2}:\n",
       "  0.5    -0.707  0.5\n",
       "  0.5     0.707  0.5\n",
       " -0.707   0.0    0.707\n",
       "\n",
       "julia> X = [1, 0, 0];\n",
       "julia> Xp = M*X\n",
       "3-element Array{Float64,1}:\n",
       "  0.5\n",
       "  0.5\n",
       " -0.707\n",
       "```\n"
      ]
     },
     "execution_count": 36,
     "metadata": {},
     "output_type": "execute_result"
    }
   ],
   "source": [
    "? rotation_matrix"
   ]
  },
  {
   "cell_type": "code",
   "execution_count": 45,
   "metadata": {
    "hidden": true
   },
   "outputs": [],
   "source": [
    "# Define system\n",
    "rotorpod = System(\n",
    "                        \"Rotor pod\",                # Name\n",
    "                        [motor1000kv, prop8x4];     # Subcomponents\n",
    "                        id=\"rotpod\",                # Identifier\n",
    "    \n",
    "                        # Orientation of motor and prop: centerline (z-axis) \n",
    "                        # aligned with x-axis\n",
    "                        subOaxis = [rotation_matrix(0, -90, -90), rotation_matrix(0, -90, -90)],\n",
    "    \n",
    "                        # Position of motor and prop: Rotor flush with motor face\n",
    "                        subO=[zeros(3), [-prop8x4.subcomponents.shape.h, 0, 0]]\n",
    "               )\n",
    "\n",
    "# Save components as vtk\n",
    "str = save_shape(rotorpod; path=save_path)\n",
    "\n",
    "# Call Paraview\n",
    "run(`paraview --data=$(save_path)/$(str)`)"
   ]
  },
  {
   "cell_type": "markdown",
   "metadata": {
    "hidden": true
   },
   "source": [
    "Notice that here we have called the function `save_shape` to generate vtks of all components:"
   ]
  },
  {
   "cell_type": "code",
   "execution_count": 38,
   "metadata": {
    "hidden": true
   },
   "outputs": [
    {
     "name": "stdout",
     "output_type": "stream",
     "text": [
      "search: \u001b[1ms\u001b[22m\u001b[1ma\u001b[22m\u001b[1mv\u001b[22m\u001b[1me\u001b[22m\u001b[1m_\u001b[22m\u001b[1ms\u001b[22m\u001b[1mh\u001b[22m\u001b[1ma\u001b[22m\u001b[1mp\u001b[22m\u001b[1me\u001b[22m\n",
      "\n"
     ]
    },
    {
     "data": {
      "text/markdown": [
       "```\n",
       "`save_shape(cmp::Component, filename; O=zeros(3), Oaxis=eye(3), optargs...)`\n",
       "```\n",
       "\n",
       "Generates a vtk file with the shape of this component at origin `O` and orientation `Oaxis`. Returns a string with the name of the vtk file.\n",
       "\n",
       "```\n",
       "`save_shape(cmp::System, filename; optargs...)`\n",
       "```\n",
       "\n",
       "Generates vtk files of every subcomponent, with origin `O` and orientation `Oaxis`. Returns a string with the names of all vtk files.\n"
      ],
      "text/plain": [
       "```\n",
       "`save_shape(cmp::Component, filename; O=zeros(3), Oaxis=eye(3), optargs...)`\n",
       "```\n",
       "\n",
       "Generates a vtk file with the shape of this component at origin `O` and orientation `Oaxis`. Returns a string with the name of the vtk file.\n",
       "\n",
       "```\n",
       "`save_shape(cmp::System, filename; optargs...)`\n",
       "```\n",
       "\n",
       "Generates vtk files of every subcomponent, with origin `O` and orientation `Oaxis`. Returns a string with the names of all vtk files.\n"
      ]
     },
     "execution_count": 38,
     "metadata": {},
     "output_type": "execute_result"
    }
   ],
   "source": [
    "? save_shape"
   ]
  },
  {
   "cell_type": "markdown",
   "metadata": {
    "hidden": true
   },
   "source": [
    "This function returns a string with the name of all the vtk files that were generated:"
   ]
  },
  {
   "cell_type": "code",
   "execution_count": 39,
   "metadata": {
    "hidden": true
   },
   "outputs": [
    {
     "data": {
      "text/plain": [
       "\"Rotorpod_1Motor1000kv_shape.vtk;Rotorpod_2Propeller_shape.vtk;\""
      ]
     },
     "execution_count": 39,
     "metadata": {},
     "output_type": "execute_result"
    }
   ],
   "source": [
    "str"
   ]
  },
  {
   "cell_type": "markdown",
   "metadata": {
    "hidden": true
   },
   "source": [
    "Use this string to call Paraview as `run(paraview --data=$(save_path)/$(str))`"
   ]
  },
  {
   "cell_type": "markdown",
   "metadata": {
    "heading_collapsed": true
   },
   "source": [
    "## Example &ndash; Propulsion System: System of Systems + Bill of Materials"
   ]
  },
  {
   "cell_type": "markdown",
   "metadata": {
    "hidden": true
   },
   "source": [
    "In this example I use the rotor pod to create a propulsion system comprised of two pods, one at each side of the wing. Notice that the propulsion system uses the rotor pod systems as subcomponents, making it a system of system. The recursivity of systems could as complicated as the user may want."
   ]
  },
  {
   "cell_type": "markdown",
   "metadata": {
    "hidden": true
   },
   "source": [
    "<img src=\"img/propulsion00.png\" alt=\"Pic here\" style=\"width: 900px;\"/>"
   ]
  },
  {
   "cell_type": "code",
   "execution_count": 40,
   "metadata": {
    "hidden": true
   },
   "outputs": [
    {
     "data": {
      "text/html": [
       "<table class=\"data-frame\"><thead><tr><th></th><th>Name</th><th>ID</th><th>Subcomponents</th><th>Description</th><th>Comments</th><th>Vendor</th><th>$/unit</th><th>Units</th><th>Total cost ($)</th></tr></thead><tbody><tr><th>1</th><td>Propulsion system</td><td>propulsion</td><td>Rotor pod, Rotor pod</td><td></td><td>Rated for cruise at __ m/s giving ___ N</td><td></td><td>26.9</td><td>1</td><td>26.9</td></tr><tr><th>2</th><td>Rotor pod</td><td>rotpod</td><td>Motor 1000kv, Propeller</td><td></td><td></td><td></td><td>13.45</td><td>2</td><td>26.9</td></tr><tr><th>3</th><td>Motor 1000kv</td><td>motor1000kv</td><td></td><td>Turnigy D2830-11 1000kv Brushless Motor</td><td>1000kv, requires 30A ESC, suggested prop 8x4 (4S) ~ 10x7 (2S) </td><td>https://hobbyking.com/en_us/d2830-11-1000kv-brushless-motor.html</td><td>11</td><td>2</td><td>22</td></tr><tr><th>4</th><td>Propeller</td><td>prop8x4</td><td></td><td>APC 8x4.7 slow-flyer ropeller</td><td></td><td>https://www.apcprop.com/product/8x4-7sf/</td><td>2.45</td><td>2</td><td>4.9</td></tr></tbody></table>"
      ],
      "text/plain": [
       "4×9 DataFrames.DataFrame. Omitted printing of 6 columns\n",
       "│ Row │ Name              │ ID          │ Subcomponents           │\n",
       "├─────┼───────────────────┼─────────────┼─────────────────────────┤\n",
       "│ 1   │ Propulsion system │ propulsion  │ Rotor pod, Rotor pod    │\n",
       "│ 2   │ Rotor pod         │ rotpod      │ Motor 1000kv, Propeller │\n",
       "│ 3   │ Motor 1000kv      │ motor1000kv │                         │\n",
       "│ 4   │ Propeller         │ prop8x4     │                         │"
      ]
     },
     "execution_count": 40,
     "metadata": {},
     "output_type": "execute_result"
    }
   ],
   "source": [
    "# System definition\n",
    "propulsion = System(\n",
    "                        \"Propulsion system\",            # Name\n",
    "                        [rotorpod, rotorpod];           # Subcomponents\n",
    "                        id=\"propulsion\",                # Identifier\n",
    "    \n",
    "                        comments=\"Rated for cruise at __ m/s giving ___ N\",\n",
    "    \n",
    "                        # Orientation of rotor pods: centerline (x-axis) \n",
    "                        # aligned with z-axis and pointing up\n",
    "                        subOaxis = [[0 0 -1; 0 1 0; 1 0 0], [0 0 -1; 0 1 0; 1 0 0]],\n",
    "    \n",
    "                        # Position of rotor pods: left and right side of wing\n",
    "                        subO=[[0, -0.25, 0], [0, 0.25, 0]]\n",
    "              )"
   ]
  },
  {
   "cell_type": "markdown",
   "metadata": {
    "hidden": true
   },
   "source": [
    "The function `displaybom()` displays the bill of materials that make the system:"
   ]
  },
  {
   "cell_type": "code",
   "execution_count": 41,
   "metadata": {
    "hidden": true,
    "scrolled": true
   },
   "outputs": [
    {
     "data": {
      "text/html": [
       "<table class=\"data-frame\"><thead><tr><th></th><th>Name</th><th>ID</th><th>Subcomponents</th><th>Description</th><th>Comments</th><th>Vendor</th><th>$/unit</th><th>Units</th><th>Total cost ($)</th></tr></thead><tbody><tr><th>1</th><td>Motor 1000kv</td><td>motor1000kv</td><td></td><td>Turnigy D2830-11 1000kv Brushless Motor</td><td>1000kv, requires 30A ESC, suggested prop 8x4 (4S) ~ 10x7 (2S) </td><td>https://hobbyking.com/en_us/d2830-11-1000kv-brushless-motor.html</td><td>11</td><td>2</td><td>22</td></tr><tr><th>2</th><td>Propeller</td><td>prop8x4</td><td></td><td>APC 8x4.7 slow-flyer ropeller</td><td></td><td>https://www.apcprop.com/product/8x4-7sf/</td><td>2.45</td><td>2</td><td>4.9</td></tr></tbody></table>"
      ],
      "text/plain": [
       "2×9 DataFrames.DataFrame. Omitted printing of 6 columns\n",
       "│ Row │ Name         │ ID          │ Subcomponents │\n",
       "├─────┼──────────────┼─────────────┼───────────────┤\n",
       "│ 1   │ Motor 1000kv │ motor1000kv │               │\n",
       "│ 2   │ Propeller    │ prop8x4     │               │"
      ]
     },
     "metadata": {},
     "output_type": "display_data"
    }
   ],
   "source": [
    "displaybom(propulsion)"
   ]
  },
  {
   "cell_type": "code",
   "execution_count": 46,
   "metadata": {
    "hidden": true
   },
   "outputs": [],
   "source": [
    "# Save VTKs of components\n",
    "str = save_shape(propulsion; path=save_path)\n",
    "\n",
    "# Open VTKs on Paraview\n",
    "run(`paraview --data=$(save_path)/$(str)`)"
   ]
  }
 ],
 "metadata": {
  "@webio": {
   "lastCommId": null,
   "lastKernelId": null
  },
  "hide_input": false,
  "kernelspec": {
   "display_name": "Julia 0.6.4",
   "language": "julia",
   "name": "julia-0.6"
  },
  "language_info": {
   "file_extension": ".jl",
   "mimetype": "application/julia",
   "name": "julia",
   "version": "0.6.4"
  }
 },
 "nbformat": 4,
 "nbformat_minor": 2
}
