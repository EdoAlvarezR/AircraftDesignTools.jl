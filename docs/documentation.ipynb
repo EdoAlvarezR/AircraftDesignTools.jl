{
 "cells": [
  {
   "cell_type": "markdown",
   "metadata": {},
   "source": [
    "<center><b>\n",
    "<span style=\"font-size: 2em;\">\n",
    "AircraftDesignTools Documentation</span><br><span style=\"font-size: 1em;\">\n",
    "Last Update: 07/2019</span>  \n",
    "</b></center>"
   ]
  },
  {
   "cell_type": "code",
   "execution_count": 1,
   "metadata": {},
   "outputs": [],
   "source": [
    "import PyPlot\n",
    "\n",
    "using AircraftDesignTools\n",
    "adt = AircraftDesignTools\n",
    "\n",
    "data_path = \"data/\"\n",
    "airfoil_path = joinpath(data_path, \"airfoil/\")\n",
    "save_path = \"temps/\";"
   ]
  },
  {
   "cell_type": "markdown",
   "metadata": {
    "heading_collapsed": true
   },
   "source": [
    "# Table of Contents"
   ]
  },
  {
   "cell_type": "code",
   "execution_count": 2,
   "metadata": {
    "hidden": true
   },
   "outputs": [
    {
     "data": {
      "application/javascript": [
       "$.getScript('https://kmahelona.github.io/ipython_notebook_goodies/ipython_notebook_toc.js')\n"
      ]
     },
     "metadata": {},
     "output_type": "display_data"
    }
   ],
   "source": [
    "macro javascript_str(s) display(\"text/javascript\", s); end\n",
    "\n",
    "javascript\"\"\"\n",
    "$.getScript('https://kmahelona.github.io/ipython_notebook_goodies/ipython_notebook_toc.js')\n",
    "\"\"\""
   ]
  },
  {
   "cell_type": "markdown",
   "metadata": {
    "heading_collapsed": true
   },
   "source": [
    "# Components"
   ]
  },
  {
   "cell_type": "markdown",
   "metadata": {
    "hidden": true
   },
   "source": [
    "A component is any object in space that has mass. Components can be volumetric, surface, or point objects."
   ]
  },
  {
   "cell_type": "code",
   "execution_count": 3,
   "metadata": {
    "hidden": true
   },
   "outputs": [
    {
     "data": {
      "text/markdown": [
       "```\n",
       "`Component(name::String, object::ObjectTypes; optargs...) <: AbstractComponent`\n",
       "```\n",
       "\n",
       "Defines an object with the location and orientation given by the shape definition of `object`.\n",
       "\n",
       "**OPTIONAL ARGUMENTS**\n",
       "\n",
       "  * `id::Union{Int,String}`       : Component number identifier\n",
       "  * `description::String`         : Useful description\n",
       "  * `comments::String`            : Vent about your life here\n",
       "  * `vendor::String`              : Vendor information\n",
       "  * `cost::Real`                  : Cost of this component\n"
      ],
      "text/plain": [
       "```\n",
       "`Component(name::String, object::ObjectTypes; optargs...) <: AbstractComponent`\n",
       "```\n",
       "\n",
       "Defines an object with the location and orientation given by the shape definition of `object`.\n",
       "\n",
       "**OPTIONAL ARGUMENTS**\n",
       "\n",
       "  * `id::Union{Int,String}`       : Component number identifier\n",
       "  * `description::String`         : Useful description\n",
       "  * `comments::String`            : Vent about your life here\n",
       "  * `vendor::String`              : Vendor information\n",
       "  * `cost::Real`                  : Cost of this component\n"
      ]
     },
     "execution_count": 3,
     "metadata": {},
     "output_type": "execute_result"
    }
   ],
   "source": [
    "? adt.Component"
   ]
  },
  {
   "cell_type": "markdown",
   "metadata": {
    "hidden": true
   },
   "source": [
    "In order to define a componet, first we need to define a shape and a massified object that uses that shape as shown below."
   ]
  },
  {
   "cell_type": "markdown",
   "metadata": {
    "heading_collapsed": true,
    "hidden": true
   },
   "source": [
    "## Shape Definition"
   ]
  },
  {
   "cell_type": "markdown",
   "metadata": {
    "hidden": true
   },
   "source": [
    "A Shape is any set of parameters used for calculating an associated volume, area, and centroid."
   ]
  },
  {
   "cell_type": "code",
   "execution_count": 4,
   "metadata": {
    "hidden": true
   },
   "outputs": [
    {
     "data": {
      "text/markdown": [
       "Implementations of AbstractShape are expected to have the following fields\n",
       "\n",
       "  * `units::String`     : Units of the length dimensions.\n",
       "\n",
       "and the following functions\n",
       "\n",
       "```julia\n",
       "    \"Returns the volume of this shape\"\n",
       "    volume(self::ShapeType) = ...\n",
       "\n",
       "    \"Returns the surface area of this shape\"\n",
       "    area(self::ShapeType) = ...\n",
       "\n",
       "    \"Returns a tuple (x1, x2, x3) with the coordinates of the shape centroid\"\n",
       "    centroid(self::ShapeType) = ...\n",
       "\n",
       "    \"Generates a vtk file with this shape and returns the name of the vtk file\"\n",
       "    save_vtk(self::ShapeType, filename; optargs...) = ...\n",
       "```\n"
      ],
      "text/plain": [
       "Implementations of AbstractShape are expected to have the following fields\n",
       "\n",
       "  * `units::String`     : Units of the length dimensions.\n",
       "\n",
       "and the following functions\n",
       "\n",
       "```julia\n",
       "    \"Returns the volume of this shape\"\n",
       "    volume(self::ShapeType) = ...\n",
       "\n",
       "    \"Returns the surface area of this shape\"\n",
       "    area(self::ShapeType) = ...\n",
       "\n",
       "    \"Returns a tuple (x1, x2, x3) with the coordinates of the shape centroid\"\n",
       "    centroid(self::ShapeType) = ...\n",
       "\n",
       "    \"Generates a vtk file with this shape and returns the name of the vtk file\"\n",
       "    save_vtk(self::ShapeType, filename; optargs...) = ...\n",
       "```\n"
      ]
     },
     "execution_count": 4,
     "metadata": {},
     "output_type": "execute_result"
    }
   ],
   "source": [
    "? adt.AbstractShape"
   ]
  },
  {
   "cell_type": "markdown",
   "metadata": {
    "hidden": true
   },
   "source": [
    "The constant variable `ShapeTypes` contains all the concrete implementations of `AbstractShape` implemented in the module:"
   ]
  },
  {
   "cell_type": "code",
   "execution_count": 5,
   "metadata": {
    "hidden": true
   },
   "outputs": [
    {
     "data": {
      "text/plain": [
       "Union{AircraftDesignTools.ShapeCuboid, AircraftDesignTools.ShapeCyl, AircraftDesignTools.ShapePoint, AircraftDesignTools.ShapeSphere, AircraftDesignTools.ShapeSurfGrid}"
      ]
     },
     "execution_count": 5,
     "metadata": {},
     "output_type": "execute_result"
    }
   ],
   "source": [
    "adt.ShapeTypes"
   ]
  },
  {
   "cell_type": "markdown",
   "metadata": {
    "hidden": true
   },
   "source": [
    "Here are three simple shapes:"
   ]
  },
  {
   "cell_type": "code",
   "execution_count": 6,
   "metadata": {
    "hidden": true
   },
   "outputs": [
    {
     "data": {
      "text/markdown": [
       "```\n",
       "`ShapeCuboid(x1::Real, x2::Real, x3::Real, units::String)`\n",
       "```\n",
       "\n",
       "Cuboid shape formed by six parallelograms (3D rectangle)\n"
      ],
      "text/plain": [
       "```\n",
       "`ShapeCuboid(x1::Real, x2::Real, x3::Real, units::String)`\n",
       "```\n",
       "\n",
       "Cuboid shape formed by six parallelograms (3D rectangle)\n"
      ]
     },
     "execution_count": 6,
     "metadata": {},
     "output_type": "execute_result"
    }
   ],
   "source": [
    "? adt.ShapeCuboid"
   ]
  },
  {
   "cell_type": "code",
   "execution_count": 7,
   "metadata": {
    "hidden": true
   },
   "outputs": [
    {
     "data": {
      "text/markdown": [
       "```\n",
       "`ShapeCyl(r::Real, h::Real, units::String)`\n",
       "```\n",
       "\n",
       "Cylindrical shape\n"
      ],
      "text/plain": [
       "```\n",
       "`ShapeCyl(r::Real, h::Real, units::String)`\n",
       "```\n",
       "\n",
       "Cylindrical shape\n"
      ]
     },
     "execution_count": 7,
     "metadata": {},
     "output_type": "execute_result"
    }
   ],
   "source": [
    "? adt.ShapeCyl"
   ]
  },
  {
   "cell_type": "code",
   "execution_count": 8,
   "metadata": {
    "hidden": true
   },
   "outputs": [
    {
     "data": {
      "text/markdown": [
       "```\n",
       "`ShapeSphere(r::Real, units::String)`\n",
       "```\n",
       "\n",
       "Spherical shape\n"
      ],
      "text/plain": [
       "```\n",
       "`ShapeSphere(r::Real, units::String)`\n",
       "```\n",
       "\n",
       "Spherical shape\n"
      ]
     },
     "execution_count": 8,
     "metadata": {},
     "output_type": "execute_result"
    }
   ],
   "source": [
    "? adt.ShapeSphere"
   ]
  },
  {
   "cell_type": "markdown",
   "metadata": {
    "hidden": true
   },
   "source": [
    "For defining point masses, use the following volume-less shape:"
   ]
  },
  {
   "cell_type": "code",
   "execution_count": 9,
   "metadata": {
    "hidden": true
   },
   "outputs": [
    {
     "data": {
      "text/markdown": [
       "```\n",
       "`ShapePoint(units::String)`\n",
       "```\n",
       "\n",
       "A volume-less point\n"
      ],
      "text/plain": [
       "```\n",
       "`ShapePoint(units::String)`\n",
       "```\n",
       "\n",
       "A volume-less point\n"
      ]
     },
     "execution_count": 9,
     "metadata": {},
     "output_type": "execute_result"
    }
   ],
   "source": [
    "? adt.ShapePoint"
   ]
  },
  {
   "cell_type": "markdown",
   "metadata": {
    "hidden": true
   },
   "source": [
    "In the following example we define a cylinder of unit radius and height. Units can be explicitely specified, otherwise it will default to MKS metric units:"
   ]
  },
  {
   "cell_type": "code",
   "execution_count": 10,
   "metadata": {
    "hidden": true,
    "scrolled": true
   },
   "outputs": [
    {
     "data": {
      "text/plain": [
       "AircraftDesignTools.ShapeCyl{Float64}(1.0, 1.0, \"m\")"
      ]
     },
     "execution_count": 10,
     "metadata": {},
     "output_type": "execute_result"
    }
   ],
   "source": [
    "cyl = ShapeCyl(1.0, 1.0)"
   ]
  },
  {
   "cell_type": "code",
   "execution_count": 11,
   "metadata": {
    "hidden": true,
    "scrolled": true
   },
   "outputs": [
    {
     "data": {
      "text/plain": [
       "AircraftDesignTools.ShapeCyl{Float64}(1.0, 1.0, \"in\")"
      ]
     },
     "execution_count": 11,
     "metadata": {},
     "output_type": "execute_result"
    }
   ],
   "source": [
    "cyl = ShapeCyl(1.0, 1.0, \"in\")"
   ]
  },
  {
   "cell_type": "code",
   "execution_count": 12,
   "metadata": {
    "hidden": true
   },
   "outputs": [
    {
     "name": "stdout",
     "output_type": "stream",
     "text": [
      "Volume:\t\t3.141592653589793in^3\n",
      "Surface area:\t12.566370614359172in^2\n",
      "Centroid:\t(0.0, 0.0, 0.5)in\n"
     ]
    }
   ],
   "source": [
    "println(\"Volume:\\t\\t\",   volume(cyl), volumeunits(cyl))\n",
    "println(\"Surface area:\\t\", area(cyl), areaunits(cyl))\n",
    "println(\"Centroid:\\t\", centroid(cyl), centroidunits(cyl))"
   ]
  },
  {
   "cell_type": "markdown",
   "metadata": {
    "heading_collapsed": true,
    "hidden": true
   },
   "source": [
    "## Massified-Object Definition"
   ]
  },
  {
   "cell_type": "markdown",
   "metadata": {
    "hidden": true
   },
   "source": [
    "An Object is simply a wrapper associating a density of mass to a shape."
   ]
  },
  {
   "cell_type": "code",
   "execution_count": 13,
   "metadata": {
    "hidden": true
   },
   "outputs": [
    {
     "data": {
      "text/markdown": [
       "Implementations of AbstractObject are expected to have the following fields\n",
       "\n",
       "  * `shape::ShapeType`      : Shape of object.\n",
       "  * `density::Real`         : density of object.\n",
       "  * `dunits::String`        : Units of density.\n",
       "\n",
       "and the following functions\n",
       "\n",
       "```julia\n",
       "\n",
       "    \"Returns the mass-normalizing value (volume, area, etc)\"\n",
       "    _v(::Type{O}, shape::S) where {O<:ObjectPoint, S<:ShapeTypes} = ...\n",
       "\n",
       "    \"Returns the mass-normalizing units\"\n",
       "    _vunits(::Type{O}, shape::S) where {O<:ObjectPoint, S<:ShapeTypes} = ...\n",
       "```\n"
      ],
      "text/plain": [
       "Implementations of AbstractObject are expected to have the following fields\n",
       "\n",
       "  * `shape::ShapeType`      : Shape of object.\n",
       "  * `density::Real`         : density of object.\n",
       "  * `dunits::String`        : Units of density.\n",
       "\n",
       "and the following functions\n",
       "\n",
       "```julia\n",
       "\n",
       "    \"Returns the mass-normalizing value (volume, area, etc)\"\n",
       "    _v(::Type{O}, shape::S) where {O<:ObjectPoint, S<:ShapeTypes} = ...\n",
       "\n",
       "    \"Returns the mass-normalizing units\"\n",
       "    _vunits(::Type{O}, shape::S) where {O<:ObjectPoint, S<:ShapeTypes} = ...\n",
       "```\n"
      ]
     },
     "execution_count": 13,
     "metadata": {},
     "output_type": "execute_result"
    }
   ],
   "source": [
    "? adt.AbstractObject"
   ]
  },
  {
   "cell_type": "markdown",
   "metadata": {
    "hidden": true
   },
   "source": [
    "The constant variable `ObjectTypes` contains all the concrete implementations of `AbstractObject` implemented in the module:"
   ]
  },
  {
   "cell_type": "code",
   "execution_count": 14,
   "metadata": {
    "hidden": true
   },
   "outputs": [
    {
     "data": {
      "text/plain": [
       "Union{AircraftDesignTools.ObjectPoint, AircraftDesignTools.ObjectSurf, AircraftDesignTools.ObjectVol}"
      ]
     },
     "execution_count": 14,
     "metadata": {},
     "output_type": "execute_result"
    }
   ],
   "source": [
    "adt.ObjectTypes"
   ]
  },
  {
   "cell_type": "markdown",
   "metadata": {
    "hidden": true
   },
   "source": [
    "There are three implementation associated to objects with mass distributed over a volume, a surface, or a point mass:"
   ]
  },
  {
   "cell_type": "code",
   "execution_count": 15,
   "metadata": {
    "hidden": true
   },
   "outputs": [
    {
     "data": {
      "text/markdown": [
       "```\n",
       "`ObjectVol(shape, density)`\n",
       "```\n",
       "\n",
       "Volumetric object with shape and mass properties assuming uniform density.\n"
      ],
      "text/plain": [
       "```\n",
       "`ObjectVol(shape, density)`\n",
       "```\n",
       "\n",
       "Volumetric object with shape and mass properties assuming uniform density.\n"
      ]
     },
     "execution_count": 15,
     "metadata": {},
     "output_type": "execute_result"
    }
   ],
   "source": [
    "? adt.ObjectVol"
   ]
  },
  {
   "cell_type": "code",
   "execution_count": 16,
   "metadata": {
    "hidden": true
   },
   "outputs": [
    {
     "data": {
      "text/markdown": [
       "```\n",
       "`ObjectVol(shape, density)`\n",
       "```\n",
       "\n",
       "Surface object with shape and mass properties assuming uniform area-based density.\n"
      ],
      "text/plain": [
       "```\n",
       "`ObjectVol(shape, density)`\n",
       "```\n",
       "\n",
       "Surface object with shape and mass properties assuming uniform area-based density.\n"
      ]
     },
     "execution_count": 16,
     "metadata": {},
     "output_type": "execute_result"
    }
   ],
   "source": [
    "? adt.ObjectSurf"
   ]
  },
  {
   "cell_type": "code",
   "execution_count": 17,
   "metadata": {
    "hidden": true
   },
   "outputs": [
    {
     "data": {
      "text/markdown": [
       "```\n",
       "`ObjectPoint(mass)`\n",
       "```\n",
       "\n",
       "A volume-less point object.\n"
      ],
      "text/plain": [
       "```\n",
       "`ObjectPoint(mass)`\n",
       "```\n",
       "\n",
       "A volume-less point object.\n"
      ]
     },
     "execution_count": 17,
     "metadata": {},
     "output_type": "execute_result"
    }
   ],
   "source": [
    "? adt.ObjectPoint"
   ]
  },
  {
   "cell_type": "markdown",
   "metadata": {
    "hidden": true
   },
   "source": [
    "The following example defines a $1\\times2\\times3\\,\\mathrm{m}^3$ block of styrofoam ($50\\,\\mathrm{kg/m^3}$ density)"
   ]
  },
  {
   "cell_type": "code",
   "execution_count": 18,
   "metadata": {
    "hidden": true
   },
   "outputs": [
    {
     "data": {
      "text/plain": [
       "AircraftDesignTools.ObjectVol{AircraftDesignTools.ShapeCuboid{Float64},Float64}(AircraftDesignTools.ShapeCuboid{Float64}(1.0, 2.0, 3.0, \"m\"), 50.0, \"kg/m^3\")"
      ]
     },
     "execution_count": 18,
     "metadata": {},
     "output_type": "execute_result"
    }
   ],
   "source": [
    "block = ShapeCuboid(1.0, 2.0, 3.0)\n",
    "density = 50.0\n",
    "styblock = ObjectVol(block, density)"
   ]
  },
  {
   "cell_type": "code",
   "execution_count": 19,
   "metadata": {
    "hidden": true
   },
   "outputs": [
    {
     "name": "stdout",
     "output_type": "stream",
     "text": [
      "Mass:\t\t\t300.0kg\n",
      "Center of gravity:\t(0.5, 1.0, 1.5)m\n"
     ]
    }
   ],
   "source": [
    "println(\"Mass:\\t\\t\\t\",   mass(styblock), massunits(styblock))\n",
    "println(\"Center of gravity:\\t\", cg(styblock), cgunits(styblock))"
   ]
  },
  {
   "cell_type": "markdown",
   "metadata": {
    "hidden": true
   },
   "source": [
    "In the example the units default to MKS metric, but they can also be explicitely declared:"
   ]
  },
  {
   "cell_type": "code",
   "execution_count": 20,
   "metadata": {
    "hidden": true
   },
   "outputs": [
    {
     "data": {
      "text/plain": [
       "AircraftDesignTools.ObjectVol{AircraftDesignTools.ShapeCuboid{Float64},Float64}(AircraftDesignTools.ShapeCuboid{Float64}(100.0, 200.0, 300.0, \"cm\"), 0.05, \"g/cm^3\")"
      ]
     },
     "execution_count": 20,
     "metadata": {},
     "output_type": "execute_result"
    }
   ],
   "source": [
    "block = ShapeCuboid(100.0, 200.0, 300.0, \"cm\")\n",
    "density = 0.05\n",
    "styblock = ObjectVol(block, density, \"g/cm^3\")"
   ]
  },
  {
   "cell_type": "code",
   "execution_count": 21,
   "metadata": {
    "hidden": true
   },
   "outputs": [
    {
     "name": "stdout",
     "output_type": "stream",
     "text": [
      "Mass:\t\t\t300000.0g\n",
      "Center of gravity:\t(50.0, 100.0, 150.0)cm\n"
     ]
    }
   ],
   "source": [
    "println(\"Mass:\\t\\t\\t\",   mass(styblock), massunits(styblock))\n",
    "println(\"Center of gravity:\\t\", cg(styblock), cgunits(styblock))"
   ]
  },
  {
   "cell_type": "markdown",
   "metadata": {
    "hidden": true
   },
   "source": [
    "When we are defining hollow objects is convenient to work with area-density rather than volumetric density, which can be done through the `ObjectSurf` Object. For instance, here I define a $5''\\times5''\\times20''$ box made out of cloroplast cardboard:"
   ]
  },
  {
   "cell_type": "code",
   "execution_count": 22,
   "metadata": {
    "hidden": true
   },
   "outputs": [
    {
     "data": {
      "text/plain": [
       "AircraftDesignTools.ObjectSurf{AircraftDesignTools.ShapeCuboid{Float64},Float64}(AircraftDesignTools.ShapeCuboid{Float64}(5.0, 5.0, 20.0, \"in\"), 0.00068698539, \"lb/in^2\")"
      ]
     },
     "execution_count": 22,
     "metadata": {},
     "output_type": "execute_result"
    }
   ],
   "source": [
    "box = ShapeCuboid(5.0, 5.0, 20.0, \"in\")\n",
    "density = 0.00068698539\n",
    "cardboardbox = ObjectSurf(box, density, \"lb/in^2\")"
   ]
  },
  {
   "cell_type": "code",
   "execution_count": 23,
   "metadata": {
    "hidden": true
   },
   "outputs": [
    {
     "name": "stdout",
     "output_type": "stream",
     "text": [
      "Mass:\t\t\t0.3091434255lb\n",
      "Center of gravity:\t(2.5, 2.5, 10.0)in\n"
     ]
    }
   ],
   "source": [
    "println(\"Mass:\\t\\t\\t\",   mass(cardboardbox), massunits(cardboardbox))\n",
    "println(\"Center of gravity:\\t\", cg(cardboardbox), cgunits(cardboardbox))"
   ]
  },
  {
   "cell_type": "markdown",
   "metadata": {
    "hidden": true
   },
   "source": [
    "If you know the mass and shape of a component, you can define the object directly from the mass through `object_from_mass(shape, mass)`:"
   ]
  },
  {
   "cell_type": "code",
   "execution_count": 24,
   "metadata": {
    "hidden": true
   },
   "outputs": [
    {
     "data": {
      "text/markdown": [
       "```\n",
       "`object_from_mass(shape::AbstractShape, mass::Real;\n",
       "objecttype=ObjectVol{S, R}, massunits=\"kg\")`\n",
       "```\n",
       "\n",
       "Returns an object of type `objecttype` where the density is calculated from the given mass and shape.\n"
      ],
      "text/plain": [
       "```\n",
       "`object_from_mass(shape::AbstractShape, mass::Real;\n",
       "objecttype=ObjectVol{S, R}, massunits=\"kg\")`\n",
       "```\n",
       "\n",
       "Returns an object of type `objecttype` where the density is calculated from the given mass and shape.\n"
      ]
     },
     "execution_count": 24,
     "metadata": {},
     "output_type": "execute_result"
    }
   ],
   "source": [
    "? adt.object_from_mass"
   ]
  },
  {
   "cell_type": "markdown",
   "metadata": {
    "hidden": true
   },
   "source": [
    "For instance, here I define a motor from the dimensions and weight that they report in HobbyKing:"
   ]
  },
  {
   "cell_type": "code",
   "execution_count": 25,
   "metadata": {
    "hidden": true
   },
   "outputs": [
    {
     "data": {
      "text/plain": [
       "AircraftDesignTools.ObjectVol{AircraftDesignTools.ShapeCyl{Float64},Float64}(AircraftDesignTools.ShapeCyl{Float64}(1.25, 2.0, \"cm\"), 5.296676506098277, \"g/cm^3\")"
      ]
     },
     "execution_count": 25,
     "metadata": {},
     "output_type": "execute_result"
    }
   ],
   "source": [
    "motor_shape = ShapeCyl(\n",
    "                        2.5/2,                      # (cm) radius\n",
    "                        2.0,                        # (cm) height\n",
    "                        \"cm\"\n",
    "                       )\n",
    "motor_obj = object_from_mass(\n",
    "                        motor_shape,\n",
    "                        52.0;                       # (g) mass\n",
    "                        massunits=\"g\"\n",
    "                       )"
   ]
  },
  {
   "cell_type": "code",
   "execution_count": 26,
   "metadata": {
    "hidden": true
   },
   "outputs": [
    {
     "name": "stdout",
     "output_type": "stream",
     "text": [
      "Density:\t\t5.296676506098277g/cm^3\n",
      "Mass:\t\t\t52.0g\n",
      "Center of gravity:\t(0.0, 0.0, 1.0)cm\n"
     ]
    }
   ],
   "source": [
    "println(\"Density:\\t\\t\", motor_obj.density, motor_obj.dunits)\n",
    "println(\"Mass:\\t\\t\\t\",   mass(motor_obj), massunits(motor_obj))\n",
    "println(\"Center of gravity:\\t\", cg(motor_obj), cgunits(motor_obj))"
   ]
  },
  {
   "cell_type": "markdown",
   "metadata": {
    "hidden": true
   },
   "source": [
    "The way that the mass distributes over the object (i.e., volumetric, surface, or point distribution) can be specified through the keyword `objecttype`. For instance, here I define the same motor as a point mass:"
   ]
  },
  {
   "cell_type": "code",
   "execution_count": 27,
   "metadata": {
    "hidden": true
   },
   "outputs": [
    {
     "data": {
      "text/plain": [
       "AircraftDesignTools.ObjectPoint{AircraftDesignTools.ShapePoint{Float64},Float64}(AircraftDesignTools.ShapePoint{Float64}(\"\"), 52.0, \"g\")"
      ]
     },
     "execution_count": 27,
     "metadata": {},
     "output_type": "execute_result"
    }
   ],
   "source": [
    "motor_shape = ShapePoint()\n",
    "motor_obj = object_from_mass(\n",
    "                        motor_shape,\n",
    "                        52.0;                       # (g) mass\n",
    "                        massunits=\"g\",\n",
    "                        objecttype=ObjectPoint\n",
    "                       )"
   ]
  },
  {
   "cell_type": "code",
   "execution_count": 28,
   "metadata": {
    "hidden": true
   },
   "outputs": [
    {
     "name": "stdout",
     "output_type": "stream",
     "text": [
      "Density:\t\t52.0g\n",
      "Mass:\t\t\t52.0g\n",
      "Center of gravity:\t(0.0, 0.0, 0.0)\n"
     ]
    }
   ],
   "source": [
    "println(\"Density:\\t\\t\", motor_obj.density, motor_obj.dunits)\n",
    "println(\"Mass:\\t\\t\\t\",   mass(motor_obj), massunits(motor_obj))\n",
    "println(\"Center of gravity:\\t\", cg(motor_obj), cgunits(motor_obj))"
   ]
  },
  {
   "cell_type": "markdown",
   "metadata": {
    "heading_collapsed": true,
    "hidden": true
   },
   "source": [
    "## Component Definition"
   ]
  },
  {
   "cell_type": "markdown",
   "metadata": {
    "hidden": true
   },
   "source": [
    "Components are massified shapes located and oriented in space, allowing to create a system of components with a common center of gravity that changes as the components move in space. Also, components carry technical information (it is all soft data, meaning that no computation is performed on such data), allowing to create bill of materials and cost analyses."
   ]
  },
  {
   "cell_type": "code",
   "execution_count": 29,
   "metadata": {
    "hidden": true
   },
   "outputs": [
    {
     "data": {
      "text/markdown": [
       "```\n",
       "`AbstractComponent`\n",
       "```\n",
       "\n",
       "Implementations of AbstractComponent are expected to have the following fields\n",
       "\n",
       "  * `name::String`                : Name of this component\n",
       "  * `subcomponents`               : Subcomponents that make this component\n",
       "  * `id::Union{Int,String}`       : Component number identifier\n",
       "  * `description::String`         : Useful description\n",
       "  * `comments::String`            : Vent about your life here\n",
       "  * `vendor::String`              : Vendor information\n",
       "  * `cost::Real`                  : Cost of this component\n",
       "\n",
       "and the following functions\n",
       "\n",
       "```julia\n",
       "    \"Saves a vtk file of this component and returns a string with file names\"\n",
       "    save_shape(cmp::ComponentType, file_name; path=\"\", num=-1) = ...\n",
       "\n",
       "    \"Returns the number of items that make this component\"\n",
       "    Base.length(cmp::ComponentType) = ...\n",
       "```\n"
      ],
      "text/plain": [
       "```\n",
       "`AbstractComponent`\n",
       "```\n",
       "\n",
       "Implementations of AbstractComponent are expected to have the following fields\n",
       "\n",
       "  * `name::String`                : Name of this component\n",
       "  * `subcomponents`               : Subcomponents that make this component\n",
       "  * `id::Union{Int,String}`       : Component number identifier\n",
       "  * `description::String`         : Useful description\n",
       "  * `comments::String`            : Vent about your life here\n",
       "  * `vendor::String`              : Vendor information\n",
       "  * `cost::Real`                  : Cost of this component\n",
       "\n",
       "and the following functions\n",
       "\n",
       "```julia\n",
       "    \"Saves a vtk file of this component and returns a string with file names\"\n",
       "    save_shape(cmp::ComponentType, file_name; path=\"\", num=-1) = ...\n",
       "\n",
       "    \"Returns the number of items that make this component\"\n",
       "    Base.length(cmp::ComponentType) = ...\n",
       "```\n"
      ]
     },
     "execution_count": 29,
     "metadata": {},
     "output_type": "execute_result"
    }
   ],
   "source": [
    "? adt.AbstractComponent"
   ]
  },
  {
   "cell_type": "markdown",
   "metadata": {
    "hidden": true
   },
   "source": [
    "The constant variable `ComponentTypes` contains all the concrete implementations of `AbstractComponent` implemented in the module:"
   ]
  },
  {
   "cell_type": "code",
   "execution_count": 30,
   "metadata": {
    "hidden": true
   },
   "outputs": [
    {
     "data": {
      "text/plain": [
       "Union{AircraftDesignTools.Component, AircraftDesignTools.System}"
      ]
     },
     "execution_count": 30,
     "metadata": {},
     "output_type": "execute_result"
    }
   ],
   "source": [
    "adt.ComponentTypes"
   ]
  },
  {
   "cell_type": "markdown",
   "metadata": {
    "hidden": true
   },
   "source": [
    "`Component` is the basic data structure of an object in space defining its own implicit local coordinate system. `System` allows to define a system of components or a system of systems. Notice that a system is defined as an `AbstractComponent`, meaning that conceptually a system is simply a component made out of subcomponents. A system defines a local coordinate system where its subcomponents are placed relative to each other. `System` will be explained in the next section."
   ]
  },
  {
   "cell_type": "code",
   "execution_count": 31,
   "metadata": {
    "hidden": true
   },
   "outputs": [
    {
     "data": {
      "text/markdown": [
       "```\n",
       "`Component(name::String, object::ObjectTypes; optargs...) <: AbstractComponent`\n",
       "```\n",
       "\n",
       "Defines an object with the location and orientation given by the shape definition of `object`.\n",
       "\n",
       "**OPTIONAL ARGUMENTS**\n",
       "\n",
       "  * `id::Union{Int,String}`       : Component number identifier\n",
       "  * `description::String`         : Useful description\n",
       "  * `comments::String`            : Vent about your life here\n",
       "  * `vendor::String`              : Vendor information\n",
       "  * `cost::Real`                  : Cost of this component\n"
      ],
      "text/plain": [
       "```\n",
       "`Component(name::String, object::ObjectTypes; optargs...) <: AbstractComponent`\n",
       "```\n",
       "\n",
       "Defines an object with the location and orientation given by the shape definition of `object`.\n",
       "\n",
       "**OPTIONAL ARGUMENTS**\n",
       "\n",
       "  * `id::Union{Int,String}`       : Component number identifier\n",
       "  * `description::String`         : Useful description\n",
       "  * `comments::String`            : Vent about your life here\n",
       "  * `vendor::String`              : Vendor information\n",
       "  * `cost::Real`                  : Cost of this component\n"
      ]
     },
     "execution_count": 31,
     "metadata": {},
     "output_type": "execute_result"
    }
   ],
   "source": [
    "? adt.Component"
   ]
  },
  {
   "cell_type": "markdown",
   "metadata": {
    "hidden": true
   },
   "source": [
    "In the following example we define a 1000kv brushless motor:"
   ]
  },
  {
   "cell_type": "code",
   "execution_count": 32,
   "metadata": {
    "hidden": true
   },
   "outputs": [
    {
     "data": {
      "text/html": [
       "<table class=\"data-frame\"><thead><tr><th></th><th>Name</th><th>ID</th><th>Subcomponents</th><th>Description</th><th>Comments</th><th>Vendor</th><th>$/unit</th><th>Units</th><th>Total cost ($)</th></tr></thead><tbody><tr><th>1</th><td>Motor</td><td>motor1000kv</td><td></td><td>Turnigy D2830-11 1000kv Brushless Motor</td><td>1000kv, requires 30A ESC, suggested prop 8x4 (4S) ~ 10x7 (2S) </td><td>https://hobbyking.com/en_us/d2830-11-1000kv-brushless-motor.html</td><td>11</td><td>1</td><td>11</td></tr></tbody></table>"
      ],
      "text/plain": [
       "1×9 DataFrames.DataFrame. Omitted printing of 6 columns\n",
       "│ Row │ Name  │ ID          │ Subcomponents │\n",
       "├─────┼───────┼─────────────┼───────────────┤\n",
       "│ 1   │ Motor │ motor1000kv │               │"
      ]
     },
     "execution_count": 32,
     "metadata": {},
     "output_type": "execute_result"
    }
   ],
   "source": [
    "# Shape of the motor\n",
    "motor1000kv_shape = ShapeCyl(\n",
    "                        2.5/2 / 100,                # (m) radius\n",
    "                        2 / 100,                    # (m) height\n",
    "                        \"m\"\n",
    "                       )\n",
    "\n",
    "# Massified object of the motor\n",
    "motor1000kv_obj = object_from_mass(\n",
    "                        motor1000kv_shape,\n",
    "                        52 / 1000;                  # (kg) mass\n",
    "                        massunits=\"kg\"\n",
    "                       )\n",
    "\n",
    "# Component definition\n",
    "motor1000kv = Component(\n",
    "                        \"Motor\",                    # Name\n",
    "                        motor1000kv_obj;            # Object\n",
    "                        id=\"motor1000kv\",           # Identifier\n",
    "                        # Extra information\n",
    "                        description=\"Turnigy D2830-11 1000kv Brushless Motor\",\n",
    "                        comments=\"1000kv, requires 30A ESC, suggested prop 8x4 (4S) ~ 10x7 (2S) \",\n",
    "                        vendor=\"https://hobbyking.com/en_us/d2830-11-1000kv-brushless-motor.html\",\n",
    "                        cost=11\n",
    "                       )"
   ]
  },
  {
   "cell_type": "markdown",
   "metadata": {
    "heading_collapsed": true
   },
   "source": [
    "# Systems"
   ]
  },
  {
   "cell_type": "markdown",
   "metadata": {
    "hidden": true
   },
   "source": [
    "`System` allows to define a system of components or a system of systems. Notice that a system is defined as an `AbstractComponent`, meaning that conceptually a system is simply a component made out of subcomponents. A system defines a local coordinate system where its subcomponents are placed relative to each other."
   ]
  },
  {
   "cell_type": "code",
   "execution_count": 33,
   "metadata": {
    "hidden": true
   },
   "outputs": [
    {
     "data": {
      "text/markdown": [
       "```\n",
       "`System(name::String, components::Array{AbstractComponent, 1}; optargs...) <: AbstractComponent`\n",
       "```\n",
       "\n",
       "Defines a system made out of components. This allows for recursive definition of systems holding other systems as subcomponents.\n",
       "\n",
       "**OPTIONAL ARGUMENTS**\n",
       "\n",
       "  * `id::Union{Int,String}`       : System number identifier\n",
       "  * `subO::Array{Array{T1, 1}, 1}`     : Origin of subcomps coordinate systems\n",
       "  * `subOaxis::Array{Array{T2, 2}, 1}` : Orientation of subcomps coordinate sytems\n",
       "  * `description::String`         : Useful description\n",
       "  * `comments::String`            : Vent about your life here\n",
       "  * `vendor::String`              : Vendor information\n",
       "\n",
       "NOTE: `subO[i]` contains the origin of the i-th subcomponent in the coordinate system of the system. `subOaxis[i]` contains the orientation of the i-th subcomponent in the coordinate system of the system, with `subOaxis[i][j, :]` the direction of the j-th unitary vector. For example, a cylinder shape originally has centerline aligned with the z-axis with its lower face centered at the origin. If we wanted to center it half way its length and align its centerline with the x-axis we would give it `O = [-h/2, 0, 0]` and `Oaxis = [0 1 0; 0 0 1; 1 0 0]`\n",
       "\n",
       "SEE ROTOR POD EXAMPLE IN DOCUMENTATION.\n"
      ],
      "text/plain": [
       "```\n",
       "`System(name::String, components::Array{AbstractComponent, 1}; optargs...) <: AbstractComponent`\n",
       "```\n",
       "\n",
       "Defines a system made out of components. This allows for recursive definition of systems holding other systems as subcomponents.\n",
       "\n",
       "**OPTIONAL ARGUMENTS**\n",
       "\n",
       "  * `id::Union{Int,String}`       : System number identifier\n",
       "  * `subO::Array{Array{T1, 1}, 1}`     : Origin of subcomps coordinate systems\n",
       "  * `subOaxis::Array{Array{T2, 2}, 1}` : Orientation of subcomps coordinate sytems\n",
       "  * `description::String`         : Useful description\n",
       "  * `comments::String`            : Vent about your life here\n",
       "  * `vendor::String`              : Vendor information\n",
       "\n",
       "NOTE: `subO[i]` contains the origin of the i-th subcomponent in the coordinate system of the system. `subOaxis[i]` contains the orientation of the i-th subcomponent in the coordinate system of the system, with `subOaxis[i][j, :]` the direction of the j-th unitary vector. For example, a cylinder shape originally has centerline aligned with the z-axis with its lower face centered at the origin. If we wanted to center it half way its length and align its centerline with the x-axis we would give it `O = [-h/2, 0, 0]` and `Oaxis = [0 1 0; 0 0 1; 1 0 0]`\n",
       "\n",
       "SEE ROTOR POD EXAMPLE IN DOCUMENTATION.\n"
      ]
     },
     "execution_count": 33,
     "metadata": {},
     "output_type": "execute_result"
    }
   ],
   "source": [
    "? adt.System"
   ]
  },
  {
   "cell_type": "markdown",
   "metadata": {
    "hidden": true
   },
   "source": [
    "## Example &ndash; Component Database"
   ]
  },
  {
   "cell_type": "markdown",
   "metadata": {
    "hidden": true
   },
   "source": [
    "I have implemented a tabulated way of displaying system and components, which is convenient for listing and comparing components. In its most simplistic usage, a system can we used as a database of all the components available for design. For example, in the following lines we define three types of motors and one propeller, and we include all of the into a System that represents the database of all components available for design."
   ]
  },
  {
   "cell_type": "code",
   "execution_count": 61,
   "metadata": {
    "hidden": true
   },
   "outputs": [
    {
     "data": {
      "text/html": [
       "<table class=\"data-frame\"><thead><tr><th></th><th>Name</th><th>ID</th><th>Subcomponents</th><th>Description</th><th>Comments</th><th>Vendor</th><th>$/unit</th><th>Units</th><th>Total cost ($)</th></tr></thead><tbody><tr><th>1</th><td>Component database</td><td>-1</td><td>Motor 1000kv, Motor 3040kv, Motor 192kv, Propeller</td><td>Database of technology available</td><td></td><td></td><td>134.56</td><td>1</td><td>134.56</td></tr><tr><th>2</th><td>Motor 1000kv</td><td>motor1000kv</td><td></td><td>Turnigy D2830-11 1000kv Brushless Motor</td><td>1000kv, requires 30A ESC, suggested prop 8x4 (4S) ~ 10x7 (2S) </td><td>https://hobbyking.com/en_us/d2830-11-1000kv-brushless-motor.html</td><td>11</td><td>1</td><td>11</td></tr><tr><th>3</th><td>Motor 3040kv</td><td>motor3040kv</td><td></td><td>Turnigy TrackStar 13.5T Sensored Brushless Motor 3040KV</td><td>3040kv, max 36A ESC, </td><td>https://hobbyking.com/en_us/turnigy-trackstar-13-5t-sensored-brushless-motor-3040kv-roar-approved.html</td><td>35.26</td><td>1</td><td>35.26</td></tr><tr><th>4</th><td>Motor 192kv</td><td>motor192kv</td><td></td><td>Turnigy Aerodrive SK3 - 6374-192KV Brushless Outrunner Motor</td><td>192kv, max 80A ESC, </td><td>https://hobbyking.com/en_us/turnigy-aerodrive-sk3-6374-192kv-brushless-outrunner-motor.html</td><td>85.85</td><td>1</td><td>85.85</td></tr><tr><th>5</th><td>Propeller</td><td>prop8x4</td><td></td><td>APC 8x4.7 slow-flyer ropeller</td><td></td><td>https://www.apcprop.com/product/8x4-7sf/</td><td>2.45</td><td>1</td><td>2.45</td></tr></tbody></table>"
      ],
      "text/plain": [
       "5×9 DataFrames.DataFrame. Omitted printing of 7 columns\n",
       "│ Row │ Name               │ ID          │\n",
       "├─────┼────────────────────┼─────────────┤\n",
       "│ 1   │ Component database │ -1          │\n",
       "│ 2   │ Motor 1000kv       │ motor1000kv │\n",
       "│ 3   │ Motor 3040kv       │ motor3040kv │\n",
       "│ 4   │ Motor 192kv        │ motor192kv  │\n",
       "│ 5   │ Propeller          │ prop8x4     │"
      ]
     },
     "execution_count": 61,
     "metadata": {},
     "output_type": "execute_result"
    }
   ],
   "source": [
    "# Motor #1\n",
    "motor1000kv_shape = ShapeCyl(                       # Cylindrical shape\n",
    "                        36/2 / 1000,                # (m) radius\n",
    "                        53 / 1000,                  # (m) height\n",
    "                        \"m\"                         # Length units\n",
    "                       )\n",
    "motor1000kv_obj = object_from_mass(                 # Calc density from mass&shape\n",
    "                        motor1000kv_shape,          # Shape\n",
    "                        52 / 1000;                  # (kg) mass\n",
    "                        massunits=\"kg\"              # Mass units\n",
    "                       )\n",
    "motor1000kv = Component(                            # Component definition\n",
    "                        \"Motor 1000kv\",             # Name\n",
    "                        motor1000kv_obj;            # Object\n",
    "                        id=\"motor1000kv\",           # Identifier\n",
    "                        description=\"Turnigy D2830-11 1000kv Brushless Motor\",\n",
    "                        comments=\"1000kv, requires 30A ESC, \"*\n",
    "                                    \"suggested prop 8x4 (4S) ~ 10x7 (2S) \",\n",
    "                        vendor=\"https://hobbyking.com/en_us/d2830-11-1000kv-brushless-motor.html\",\n",
    "                        cost=11                     # $/unit\n",
    "                       )\n",
    "\n",
    "# Motor #2\n",
    "motor3040kv_shape = ShapeCyl(                       # Cylindrical shape\n",
    "                        36/2 / 1000,                # (m) radius\n",
    "                        53 / 1000,                  # (m) height\n",
    "                        \"m\"                         # Length units\n",
    "                       )\n",
    "motor3040kv_obj = object_from_mass(                 # Calc density from mass&shape\n",
    "                        motor3040kv_shape,          # Shape\n",
    "                        178 / 1000;                 # (kg) mass\n",
    "                        massunits=\"kg\"              # Mass units\n",
    "                       )\n",
    "motor3040kv = Component(                            # Component definition\n",
    "                        \"Motor 3040kv\",             # Name\n",
    "                        motor3040kv_obj;            # Object\n",
    "                        id=\"motor3040kv\",           # Identifier\n",
    "                        description=\"Turnigy TrackStar 13.5T Sensored Brushless Motor 3040KV\",\n",
    "                        comments=\"3040kv, max 36A ESC, \",\n",
    "                        vendor=\"https://hobbyking.com/en_us/turnigy-trackstar-13-5t-sensored-brushless-motor-3040kv-roar-approved.html\",\n",
    "                        cost=35.26                  # $/unit\n",
    "                       )\n",
    "\n",
    "# Motor #3\n",
    "motor192kv_shape = ShapePoint()\n",
    "motor192kv_obj = object_from_mass(                  # Calc density from mass&shape\n",
    "                        motor192kv_shape,           # Shape\n",
    "                        858 / 1000;                 # (kg) mass\n",
    "                        massunits=\"kg\",             # Mass units\n",
    "                        objecttype=ObjectPoint      # Defines it as a point mass\n",
    "                       )\n",
    "motor192kv = Component(                             # Component definition\n",
    "                        \"Motor 192kv\",              # Name\n",
    "                        motor192kv_obj;             # Object\n",
    "                        id=\"motor192kv\",            # Identifier\n",
    "                        description=\"Turnigy Aerodrive SK3 - 6374-192KV Brushless Outrunner Motor\",\n",
    "                        comments=\"192kv, max 80A ESC, \",\n",
    "                        vendor=\"https://hobbyking.com/en_us/turnigy-aerodrive-sk3-6374-192kv-brushless-outrunner-motor.html\",\n",
    "                        cost=85.85                  # $/unit\n",
    "                       )\n",
    "\n",
    "# Propeller\n",
    "prop8x4_shape = ShapeCyl( # Describes the prop geometry as a disk\n",
    "                        2.54*8/2 / 100,             # (m) radius\n",
    "                        2.54*0.3/2 / 100,           # (m) height\n",
    "                        \"m\"                         # Length units\n",
    "                       )\n",
    "prop8x4_obj = object_from_mass(                     # Calc density from mass&shape\n",
    "                        prop8x4_shape,              # Shape\n",
    "                        0.25*28.3495 / 1000;        # (kg) mass\n",
    "                        massunits=\"kg\"              # Mass units\n",
    "                       )\n",
    "prop8x4 = Component(                                # Component definition\n",
    "                        \"Propeller\",                # Name\n",
    "                        prop8x4_obj;                # Object\n",
    "                        id=\"prop8x4\",               # Identifier\n",
    "                        description=\"APC 8x4.7 slow-flyer ropeller\",\n",
    "                        comments=\"\",\n",
    "                        vendor=\"https://www.apcprop.com/product/8x4-7sf/\",\n",
    "                        cost=2.45                   # $/unit\n",
    "                       )\n",
    "\n",
    "\n",
    "# Component database\n",
    "componentdatabase = System(                          # System definition\n",
    "                        \"Component database\",        # Name\n",
    "                        [motor1000kv, motor3040kv, motor192kv, prop8x4]; # Subcomponents\n",
    "                        description=\"Database of technology available\"\n",
    "              )"
   ]
  },
  {
   "cell_type": "markdown",
   "metadata": {
    "heading_collapsed": true,
    "hidden": true
   },
   "source": [
    "## Example &ndash; Rotor Pod: Translation and Rotations"
   ]
  },
  {
   "cell_type": "markdown",
   "metadata": {
    "hidden": true
   },
   "source": [
    "Here we define a rotor pod comprised of a motor and propeller. In this example we rotate the centerline of both motr and propeller to be aligned with the x-axis, and we place the propeller flush to the motor face."
   ]
  },
  {
   "cell_type": "markdown",
   "metadata": {
    "hidden": true
   },
   "source": [
    "<img src=\"img/rotorpod00.png\" alt=\"Pic here\" style=\"width: 900px;\"/>"
   ]
  },
  {
   "cell_type": "code",
   "execution_count": 35,
   "metadata": {
    "hidden": true
   },
   "outputs": [
    {
     "data": {
      "text/html": [
       "<table class=\"data-frame\"><thead><tr><th></th><th>Name</th><th>ID</th><th>Subcomponents</th><th>Description</th><th>Comments</th><th>Vendor</th><th>$/unit</th><th>Units</th><th>Total cost ($)</th></tr></thead><tbody><tr><th>1</th><td>Rotor pod</td><td>rotpod</td><td>Motor 1000kv, Propeller</td><td></td><td></td><td></td><td>13.45</td><td>1</td><td>13.45</td></tr><tr><th>2</th><td>Motor 1000kv</td><td>motor1000kv</td><td></td><td>Turnigy D2830-11 1000kv Brushless Motor</td><td>1000kv, requires 30A ESC, suggested prop 8x4 (4S) ~ 10x7 (2S) </td><td>https://hobbyking.com/en_us/d2830-11-1000kv-brushless-motor.html</td><td>11</td><td>1</td><td>11</td></tr><tr><th>3</th><td>Propeller</td><td>prop8x4</td><td></td><td>APC 8x4.7 slow-flyer ropeller</td><td></td><td>https://www.apcprop.com/product/8x4-7sf/</td><td>2.45</td><td>1</td><td>2.45</td></tr></tbody></table>"
      ],
      "text/plain": [
       "3×9 DataFrames.DataFrame. Omitted printing of 6 columns\n",
       "│ Row │ Name         │ ID          │ Subcomponents           │\n",
       "├─────┼──────────────┼─────────────┼─────────────────────────┤\n",
       "│ 1   │ Rotor pod    │ rotpod      │ Motor 1000kv, Propeller │\n",
       "│ 2   │ Motor 1000kv │ motor1000kv │                         │\n",
       "│ 3   │ Propeller    │ prop8x4     │                         │"
      ]
     },
     "execution_count": 35,
     "metadata": {},
     "output_type": "execute_result"
    }
   ],
   "source": [
    "# Define system\n",
    "rotorpod = System(\n",
    "                        \"Rotor pod\",                # Name\n",
    "                        [motor1000kv, prop8x4];     # Subcomponents\n",
    "                        id=\"rotpod\",                # Identifier\n",
    "    \n",
    "                        # Orientation of motor and prop: centerline (z-axis) \n",
    "                        # aligned with x-axis\n",
    "                        subOaxis = [[0 1 0; 0 0 1; 1 0 0], [0 1 0; 0 0 1; 1 0 0]],\n",
    "    \n",
    "                        # Position of motor and prop: Rotor flush with motor face\n",
    "                        subO=[zeros(3), [-prop8x4.subcomponents.shape.h, 0, 0]]\n",
    "               )"
   ]
  },
  {
   "cell_type": "markdown",
   "metadata": {
    "hidden": true
   },
   "source": [
    "Also, instead of defining the orientation `Oaxis` manually, we can use the `rotation_matrix()` to generate orientation matrices:"
   ]
  },
  {
   "cell_type": "code",
   "execution_count": 36,
   "metadata": {
    "hidden": true
   },
   "outputs": [
    {
     "data": {
      "text/markdown": [
       "`rotation_matrix(roll::Real, pitch::Real, yaw::Real)`\n",
       "\n",
       "Receives yaw, pitch, and roll angles (in degrees) and returns the rotation matrix corresponding to this rotation. (see http://planning.cs.uiuc.edu/node102.html)\n",
       "\n",
       "NOTE: Naming follows aircraft convention, with\n",
       "\n",
       "  * roll:   rotation about x-axis.\n",
       "  * pitch:  rotation about y-axis.\n",
       "  * yaw:    rotation about z-axis.\n"
      ],
      "text/plain": [
       "`rotation_matrix(roll::Real, pitch::Real, yaw::Real)`\n",
       "\n",
       "Receives yaw, pitch, and roll angles (in degrees) and returns the rotation matrix corresponding to this rotation. (see http://planning.cs.uiuc.edu/node102.html)\n",
       "\n",
       "NOTE: Naming follows aircraft convention, with\n",
       "\n",
       "  * roll:   rotation about x-axis.\n",
       "  * pitch:  rotation about y-axis.\n",
       "  * yaw:    rotation about z-axis.\n"
      ]
     },
     "execution_count": 36,
     "metadata": {},
     "output_type": "execute_result"
    }
   ],
   "source": [
    "? adt.rotation_matrix"
   ]
  },
  {
   "cell_type": "code",
   "execution_count": 37,
   "metadata": {
    "hidden": true
   },
   "outputs": [],
   "source": [
    "# Define system\n",
    "rotorpod = System(\n",
    "                        \"Rotor pod\",                # Name\n",
    "                        [motor1000kv, prop8x4];     # Subcomponents\n",
    "                        id=\"rotpod\",                # Identifier\n",
    "    \n",
    "                        # Orientation of motor and prop: centerline (z-axis) \n",
    "                        # aligned with x-axis\n",
    "                        subOaxis = [rotation_matrix(0, 90, 90), rotation_matrix(0, 90, 90)],\n",
    "    \n",
    "                        # Position of motor and prop: Rotor flush with motor face\n",
    "                        subO=[zeros(3), [-prop8x4.subcomponents.shape.h, 0, 0]]\n",
    "               )\n",
    "\n",
    "# Save components as vtk\n",
    "str = save_shape(rotorpod; path=save_path)\n",
    "\n",
    "# Call Paraview\n",
    "run(`paraview --data=$(save_path)/$(str)`)"
   ]
  },
  {
   "cell_type": "markdown",
   "metadata": {
    "hidden": true
   },
   "source": [
    "Notice that here we have called the function `save_shape` to generate vtks of all components:"
   ]
  },
  {
   "cell_type": "code",
   "execution_count": 38,
   "metadata": {
    "hidden": true
   },
   "outputs": [
    {
     "data": {
      "text/markdown": [
       "```\n",
       "`save_shape(cmp::Component, filename; O=zeros(3), Oaxis=eye(3), optargs...)`\n",
       "```\n",
       "\n",
       "Generates a vtk file with the shape of this component at origin `O` and orientation `Oaxis`. Returns a string with the name of the vtk file.\n",
       "\n",
       "```\n",
       "`save_shape(cmp::System, filename; optargs...)`\n",
       "```\n",
       "\n",
       "Generates vtk files of every subcomponent, with origin `O` and orientation `Oaxis`. Returns a string with the names of all vtk files.\n"
      ],
      "text/plain": [
       "```\n",
       "`save_shape(cmp::Component, filename; O=zeros(3), Oaxis=eye(3), optargs...)`\n",
       "```\n",
       "\n",
       "Generates a vtk file with the shape of this component at origin `O` and orientation `Oaxis`. Returns a string with the name of the vtk file.\n",
       "\n",
       "```\n",
       "`save_shape(cmp::System, filename; optargs...)`\n",
       "```\n",
       "\n",
       "Generates vtk files of every subcomponent, with origin `O` and orientation `Oaxis`. Returns a string with the names of all vtk files.\n"
      ]
     },
     "execution_count": 38,
     "metadata": {},
     "output_type": "execute_result"
    }
   ],
   "source": [
    "? adt.save_shape"
   ]
  },
  {
   "cell_type": "markdown",
   "metadata": {
    "hidden": true
   },
   "source": [
    "This function returns a string with the name of all the vtk files that were generated:"
   ]
  },
  {
   "cell_type": "code",
   "execution_count": 39,
   "metadata": {
    "hidden": true
   },
   "outputs": [
    {
     "data": {
      "text/plain": [
       "\"Rotorpod_1Motor1000kv_shape.vtk;Rotorpod_2Propeller_shape.vtk;\""
      ]
     },
     "execution_count": 39,
     "metadata": {},
     "output_type": "execute_result"
    }
   ],
   "source": [
    "str"
   ]
  },
  {
   "cell_type": "markdown",
   "metadata": {
    "hidden": true
   },
   "source": [
    "Use this string to call Paraview as `run(paraview --data=$(save_path)/$(str))`"
   ]
  },
  {
   "cell_type": "markdown",
   "metadata": {
    "heading_collapsed": true,
    "hidden": true
   },
   "source": [
    "## Example &ndash; Propulsion System: System of Systems + Bill of Materials"
   ]
  },
  {
   "cell_type": "markdown",
   "metadata": {
    "hidden": true
   },
   "source": [
    "In this example I use the rotor pod to create a propulsion system comprised of two pods, one at each side of the wing. Notice that the propulsion system uses the rotor pod systems as subcomponents, making it a system of system. The recursivity of systems could as complicated as the user may want."
   ]
  },
  {
   "cell_type": "markdown",
   "metadata": {
    "hidden": true
   },
   "source": [
    "<img src=\"img/propulsion00.png\" alt=\"Pic here\" style=\"width: 900px;\"/>"
   ]
  },
  {
   "cell_type": "code",
   "execution_count": 40,
   "metadata": {
    "hidden": true
   },
   "outputs": [
    {
     "data": {
      "text/html": [
       "<table class=\"data-frame\"><thead><tr><th></th><th>Name</th><th>ID</th><th>Subcomponents</th><th>Description</th><th>Comments</th><th>Vendor</th><th>$/unit</th><th>Units</th><th>Total cost ($)</th></tr></thead><tbody><tr><th>1</th><td>Propulsion system</td><td>propulsion</td><td>Rotor pod, Rotor pod</td><td></td><td>Rated for cruise at __ m/s giving ___ N</td><td></td><td>26.9</td><td>1</td><td>26.9</td></tr><tr><th>2</th><td>Rotor pod</td><td>rotpod</td><td>Motor 1000kv, Propeller</td><td></td><td></td><td></td><td>13.45</td><td>2</td><td>26.9</td></tr><tr><th>3</th><td>Motor 1000kv</td><td>motor1000kv</td><td></td><td>Turnigy D2830-11 1000kv Brushless Motor</td><td>1000kv, requires 30A ESC, suggested prop 8x4 (4S) ~ 10x7 (2S) </td><td>https://hobbyking.com/en_us/d2830-11-1000kv-brushless-motor.html</td><td>11</td><td>2</td><td>22</td></tr><tr><th>4</th><td>Propeller</td><td>prop8x4</td><td></td><td>APC 8x4.7 slow-flyer ropeller</td><td></td><td>https://www.apcprop.com/product/8x4-7sf/</td><td>2.45</td><td>2</td><td>4.9</td></tr></tbody></table>"
      ],
      "text/plain": [
       "4×9 DataFrames.DataFrame. Omitted printing of 6 columns\n",
       "│ Row │ Name              │ ID          │ Subcomponents           │\n",
       "├─────┼───────────────────┼─────────────┼─────────────────────────┤\n",
       "│ 1   │ Propulsion system │ propulsion  │ Rotor pod, Rotor pod    │\n",
       "│ 2   │ Rotor pod         │ rotpod      │ Motor 1000kv, Propeller │\n",
       "│ 3   │ Motor 1000kv      │ motor1000kv │                         │\n",
       "│ 4   │ Propeller         │ prop8x4     │                         │"
      ]
     },
     "execution_count": 40,
     "metadata": {},
     "output_type": "execute_result"
    }
   ],
   "source": [
    "# System definition\n",
    "propulsion = System(\n",
    "                        \"Propulsion system\",            # Name\n",
    "                        [rotorpod, rotorpod];           # Subcomponents\n",
    "                        id=\"propulsion\",                # Identifier\n",
    "    \n",
    "                        comments=\"Rated for cruise at __ m/s giving ___ N\",\n",
    "    \n",
    "                        # Orientation of rotor pods: centerline (x-axis) \n",
    "                        # aligned with z-axis and pointing up\n",
    "                        subOaxis = [[0 0 -1; 0 1 0; 1 0 0], [0 0 -1; 0 1 0; 1 0 0]],\n",
    "    \n",
    "                        # Position of rotor pods: left and right side of wing\n",
    "                        subO=[[0, -0.25, 0], [0, 0.25, 0]]\n",
    "              )"
   ]
  },
  {
   "cell_type": "markdown",
   "metadata": {
    "hidden": true
   },
   "source": [
    "The function `displaybom()` displays the bill of materials that make the system:"
   ]
  },
  {
   "cell_type": "code",
   "execution_count": 41,
   "metadata": {
    "hidden": true,
    "scrolled": true
   },
   "outputs": [
    {
     "data": {
      "text/html": [
       "<table class=\"data-frame\"><thead><tr><th></th><th>Name</th><th>ID</th><th>Subcomponents</th><th>Description</th><th>Comments</th><th>Vendor</th><th>$/unit</th><th>Units</th><th>Total cost ($)</th></tr></thead><tbody><tr><th>1</th><td>Motor 1000kv</td><td>motor1000kv</td><td></td><td>Turnigy D2830-11 1000kv Brushless Motor</td><td>1000kv, requires 30A ESC, suggested prop 8x4 (4S) ~ 10x7 (2S) </td><td>https://hobbyking.com/en_us/d2830-11-1000kv-brushless-motor.html</td><td>11</td><td>2</td><td>22</td></tr><tr><th>2</th><td>Propeller</td><td>prop8x4</td><td></td><td>APC 8x4.7 slow-flyer ropeller</td><td></td><td>https://www.apcprop.com/product/8x4-7sf/</td><td>2.45</td><td>2</td><td>4.9</td></tr></tbody></table>"
      ],
      "text/plain": [
       "2×9 DataFrames.DataFrame. Omitted printing of 6 columns\n",
       "│ Row │ Name         │ ID          │ Subcomponents │\n",
       "├─────┼──────────────┼─────────────┼───────────────┤\n",
       "│ 1   │ Motor 1000kv │ motor1000kv │               │\n",
       "│ 2   │ Propeller    │ prop8x4     │               │"
      ]
     },
     "metadata": {},
     "output_type": "display_data"
    }
   ],
   "source": [
    "displaybom(propulsion)"
   ]
  },
  {
   "cell_type": "code",
   "execution_count": 42,
   "metadata": {
    "hidden": true
   },
   "outputs": [],
   "source": [
    "# Save VTKs of components\n",
    "str = save_shape(propulsion; path=save_path)\n",
    "\n",
    "# Open VTKs on Paraview\n",
    "run(`paraview --data=$(save_path)/$(str)`)"
   ]
  },
  {
   "cell_type": "markdown",
   "metadata": {
    "heading_collapsed": true
   },
   "source": [
    "# Arbitrary Shapes"
   ]
  },
  {
   "cell_type": "markdown",
   "metadata": {
    "hidden": true
   },
   "source": [
    "`AircraftDesignTools` is built on top of the package [`GeometricTools`](https://github.com/byuflowlab/GeometricTools.jl) as its geometric engine. In order to take advantage of this powerful engine, I have defined a special Shape type that takes in a surface grid generated through `GeometricTools`'s `GridTriangleSurface` type. See [the documentation](https://nbviewer.jupyter.org/github/byuflowlab/GeometricTools.jl/blob/master/docs/Documentation.ipynb) in the `GeometricTools` to learn how to generate surface grids, and [the documentation](https://nbviewer.jupyter.org/github/EdoAlvarezR/MyPanel.jl/blob/master/docs/Documentation.ipynb) of the package [`MyPanel`](https://github.com/EdoAlvarezR/MyPanel.jl) has some neat examples on how to generate bodies of revolution and lofts."
   ]
  },
  {
   "cell_type": "markdown",
   "metadata": {
    "hidden": true
   },
   "source": [
    "Here is the Shape type for arbitrary, complicated shapes:"
   ]
  },
  {
   "cell_type": "code",
   "execution_count": 43,
   "metadata": {
    "hidden": true
   },
   "outputs": [
    {
     "data": {
      "text/markdown": [
       "```\n",
       "`ShapeSurfGrid(grid::gt.GridTriangleSurface, units::String)`\n",
       "```\n",
       "\n",
       "Arbitrary shape created as a surface grid of triangular cells through `GeometricTools` package.\n"
      ],
      "text/plain": [
       "```\n",
       "`ShapeSurfGrid(grid::gt.GridTriangleSurface, units::String)`\n",
       "```\n",
       "\n",
       "Arbitrary shape created as a surface grid of triangular cells through `GeometricTools` package.\n"
      ]
     },
     "execution_count": 43,
     "metadata": {},
     "output_type": "execute_result"
    }
   ],
   "source": [
    "? adt.ShapeSurfGrid"
   ]
  },
  {
   "cell_type": "markdown",
   "metadata": {
    "hidden": true
   },
   "source": [
    "Volume and centroid properties are calculated from the surface grid through Green's theorem (see https://en.wikipedia.org/wiki/Green%27s_theorem#Area_Calculation and https://www.physics.nus.edu.sg/~phylimhs/LineSurfVolInt2.pdf page 31)"
   ]
  },
  {
   "cell_type": "markdown",
   "metadata": {
    "heading_collapsed": true,
    "hidden": true
   },
   "source": [
    "## Example &ndash; Sphere: Space Transformation"
   ]
  },
  {
   "cell_type": "markdown",
   "metadata": {
    "hidden": true
   },
   "source": [
    "<img src=\"vid/sphere00.gif\" alt=\"Vid here\" style=\"width: 900px;\"/>"
   ]
  },
  {
   "cell_type": "code",
   "execution_count": 44,
   "metadata": {
    "hidden": true
   },
   "outputs": [],
   "source": [
    "gt = adt.GeometricTools\n",
    "\n",
    "file_name = \"sphere00\"\n",
    "paraview = true\n",
    "\n",
    "\n",
    "# Parameters\n",
    "R = 1.0                          # (m) radius of sphere\n",
    "P_min = [1*pi/360, 0, 0]         # Lower bounds of (theta, phi, dummy)\n",
    "P_max = [pi-1*pi/360, 2*pi, 0]   # Upper bounds of (theta, phi, dummy)\n",
    "NDIVS = [25, 50, 0]              # Number of divisions (cells) of (theta, phi, dummy)\n",
    "loop_dim = 2                     # Coordinate to loop (1==theta)\n",
    "C = [1,1,1]                      # Center of sphere\n",
    "\n",
    "# Generates parametric (theta, phi) grid \n",
    "grid = gt.Grid(P_min, P_max, NDIVS, loop_dim)\n",
    "\n",
    "# Transforms the grid into a spherical cartesian space\n",
    "my_transform(X) = gt.spherical3D(vcat(R, X[1:2])) + C\n",
    "gt.transform!(grid, my_transform)\n",
    "\n",
    "# Splits the quad cells into triangular cells\n",
    "dimsplit = 1\n",
    "triang_grid = gt.GridTriangleSurface(grid, dimsplit)\n",
    "\n",
    "\n",
    "if paraview\n",
    "    # Outputs a vtk file\n",
    "    gt.save(triang_grid, file_name; path=save_path)\n",
    "\n",
    "    # Calls paraview\n",
    "    str = \"$save_path/$file_name.vtk;\"\n",
    "    run(`paraview --data=$str`)\n",
    "end"
   ]
  },
  {
   "cell_type": "code",
   "execution_count": 45,
   "metadata": {
    "hidden": true
   },
   "outputs": [
    {
     "name": "stdout",
     "output_type": "stream",
     "text": [
      "Property\tAnalytic\tGrid\n",
      "----------------------------------------\n",
      "Area\t\t12.5664\t\t12.5249\n",
      "Volume\t\t4.1888\t\t4.1613\n",
      "Centroid\t[1.0, 1.0, 1.0]\t[1.0, 1.0, 1.0]\n"
     ]
    }
   ],
   "source": [
    "Agrid = gt.get_area(triang_grid)\n",
    "Aana = 4*pi*R^2\n",
    "\n",
    "Vgrid = gt.get_volume(triang_grid)\n",
    "Vana = 4/3*pi*R^3\n",
    "\n",
    "Cgrid = gt.get_centroid(triang_grid)\n",
    "Cana = C\n",
    "\n",
    "println(\"Property\\tAnalytic\\tGrid\")\n",
    "println(\"-\"^40)\n",
    "println(\"Area\\t\\t$(round(Aana,4))\\t\\t$(round(Agrid,4))\")\n",
    "println(\"Volume\\t\\t$(round(Vana,4))\\t\\t$(round(Vgrid,4))\")\n",
    "println(\"Centroid\\t$(round.(Cana,4))\\t$(round.(Cgrid,4))\")"
   ]
  },
  {
   "cell_type": "markdown",
   "metadata": {
    "heading_collapsed": true,
    "hidden": true
   },
   "source": [
    "## Example &ndash; Cube: Space Transformation"
   ]
  },
  {
   "cell_type": "markdown",
   "metadata": {
    "hidden": true
   },
   "source": [
    "<img src=\"vid/box00.gif\" alt=\"Vid here\" style=\"width: 900px;\"/>"
   ]
  },
  {
   "cell_type": "code",
   "execution_count": 46,
   "metadata": {
    "hidden": true
   },
   "outputs": [],
   "source": [
    "file_name = \"box00\"\n",
    "\n",
    "# Parameters\n",
    "L = 1.0                          # (m) side's length\n",
    "P_min = [-0.95, 0, 0]            # Lower bounds of (x, y, dummy)\n",
    "P_max = [.95, 4.0, 0]            # Upper bounds of (x, y, dummy)\n",
    "# NDIVS = [24, 20, 0]            # Number of divisions (cells) of (x, y, dummy)\n",
    "N = 3\n",
    "NDIVS = [\n",
    "            [(0.45, 3*N, 1/2, false), \n",
    "                (1.0, 6*N, 2.0, true), \n",
    "                (0.45, 3*N, 2.0, false)],\n",
    "            [(0.25, 6*N, 2.0, true) for i in 1:4],\n",
    "            [(1.0, 0, 0.0, false)]\n",
    "        ]\n",
    "loop_dim = 2                     # Coordinate to loop (2==y)\n",
    "\n",
    "# Generates parametric (theta, phi) grid \n",
    "grid = gt.Grid(P_min, P_max, NDIVS, loop_dim)\n",
    "\n",
    "# Axis on every face\n",
    "Oaxis = [gt.rotation_matrix2(-a, 0, 0) for a in [90, 0, -90, -180]]\n",
    "\n",
    "# Center of every face\n",
    "O = L*[zeros(3), [0, 0, 1.0], [0, 1, 1.0], [0, 1, 0.0]]\n",
    "\n",
    "# Axis of side sections\n",
    "Oaxis_sec = [gt.rotation_matrix2(angles...)*Oaxis[i] \n",
    "                for (i, angles) in enumerate([(0,-90,0), (0,-90,0), (0,-90,0), (0,-90,0)])]\n",
    "\n",
    "# Center of side sections\n",
    "O_sec = [O[i]+L/2*Oaxis[i][2,:] for i in 1:4]\n",
    "\n",
    "# Transformation function\n",
    "function my_transform(X)\n",
    "    \n",
    "    # Identifies the face\n",
    "    face = Int(floor(X[2]+1))\n",
    "    \n",
    "    if face<=0 || face>4\n",
    "        error(\"Logic error! Invalid face $face\")\n",
    "    end\n",
    "    \n",
    "    # Identifies the side (-1->left, 0->center, 1->right)\n",
    "    side = sign(X[1])*(abs(X[1])>0.5)\n",
    "    \n",
    "    if side==0\n",
    "        return gt.countertransform(L*[X[1], X[2]-(face-1), 0], inv(Oaxis[face]), O[face])\n",
    "    else\n",
    "        mod_X = [abs(X[1])-0.5, X[2]-(face-1)-0.5, 0]\n",
    "        mod_X[2] *= 1 - mod_X[1]/0.5\n",
    "        return gt.countertransform(L*[mod_X[1], side*mod_X[2], 0], \n",
    "                                        inv([1 0 0; 0 side 0; 0 0 side]*Oaxis_sec[face]), \n",
    "                                        O_sec[face] + L/2*[side, 0, 0])\n",
    "    end\n",
    "end\n",
    "\n",
    "# Converts the parametric grid into a box\n",
    "gt.transform!(grid, my_transform)\n",
    "\n",
    "# Splits the quad cells into triangular cells\n",
    "dimsplit = 1\n",
    "triang_grid = gt.GridTriangleSurface(grid, dimsplit)\n",
    "\n",
    "# Save vtk and call paraview\n",
    "gt.save(triang_grid, file_name; path=save_path)\n",
    "run(`paraview --data=$(joinpath(save_path, file_name)).vtk`)"
   ]
  },
  {
   "cell_type": "code",
   "execution_count": 47,
   "metadata": {
    "hidden": true
   },
   "outputs": [
    {
     "name": "stdout",
     "output_type": "stream",
     "text": [
      "Property\tAnalytic\tGrid\n",
      "----------------------------------------\n",
      "Area\t\t6.0\t\t5.98\n",
      "Volume\t\t1.0\t\t0.9967\n",
      "Centroid\t[0.0, 0.5, 0.5]\t[0.0, 0.5004, 0.5004]\n"
     ]
    }
   ],
   "source": [
    "Agrid = gt.get_area(triang_grid)\n",
    "Aana = 6*L^2\n",
    "\n",
    "Vgrid = gt.get_volume(triang_grid)\n",
    "Vana = L^3\n",
    "\n",
    "Cgrid = gt.get_centroid(triang_grid)\n",
    "Cana = [0, 0.5, 0.5]*L\n",
    "\n",
    "println(\"Property\\tAnalytic\\tGrid\")\n",
    "println(\"-\"^40)\n",
    "println(\"Area\\t\\t$(round(Aana,4))\\t\\t$(round(Agrid,4))\")\n",
    "println(\"Volume\\t\\t$(round(Vana,4))\\t\\t$(round(Vgrid,4))\")\n",
    "println(\"Centroid\\t$(round.(Cana,4))\\t$(round.(Cgrid,4))\")"
   ]
  },
  {
   "cell_type": "markdown",
   "metadata": {
    "heading_collapsed": true,
    "hidden": true
   },
   "source": [
    "## Example &ndash; Rotor Hub: Body of Revolution"
   ]
  },
  {
   "cell_type": "markdown",
   "metadata": {
    "hidden": true
   },
   "source": [
    "<img src=\"vid/hub00.gif\" alt=\"Vid here\" style=\"width: 900px;\"/>"
   ]
  },
  {
   "cell_type": "markdown",
   "metadata": {
    "hidden": true
   },
   "source": [
    "First we define the contour that we will revolve:"
   ]
  },
  {
   "cell_type": "code",
   "execution_count": 48,
   "metadata": {
    "hidden": true
   },
   "outputs": [
    {
     "data": {
      "image/png": "[encoded data removed]",
      "text/plain": [
       "PyPlot.Figure(PyObject <Figure size 500x500 with 1 Axes>)"
      ]
     },
     "metadata": {},
     "output_type": "display_data"
    }
   ],
   "source": [
    "Rhub = 0.375*0.02542        # (m) radius of hub\n",
    "Rinn = Rhub/2               # (m) inner hole radius\n",
    "Rsec1 = Rinn                # (m) radius of first hole\n",
    "Rsec2 = 3/1000              # (m) radius of second hole\n",
    "Thub = Rhub                 # (m) thickness of hub\n",
    "dsec1 = 3/1000              # (m) depth of first hole\n",
    "\n",
    "Rfillet = 2/1000            # (m) Fillet radius\n",
    "Nfillet = 30                # Points along fillet\n",
    "Cfillet = [Rhub, Thub]-Rfillet      # Center of fillet\n",
    "\n",
    "points_fillet = [Cfillet + Rfillet*[sin(a), cos(a)] \n",
    "                        for a in linspace(0,pi/2,Nfillet)]\n",
    "\n",
    "points = hcat(\n",
    "              [Rsec2, Thub-dsec1],\n",
    "              [Rsec1, Thub-dsec1],\n",
    "              [Rsec1, Thub],\n",
    "              points_fillet...,\n",
    "              [Rhub, 0],\n",
    "              [Rsec1, 0],\n",
    "              [Rsec1, dsec1],\n",
    "              [Rsec2, dsec1],\n",
    "              [Rsec2, Thub-dsec1]\n",
    "             )'\n",
    "\n",
    "x = [points[i,1] for i in 1:size(points,1)]\n",
    "y = [points[i,2] for i in 1:size(points,1)]\n",
    "\n",
    "PyPlot.figure(figsize=(5,5))\n",
    "PyPlot.plot(x,y, \"--ok\")\n",
    "PyPlot.plot([Cfillet[1]], [Cfillet[2]], \"xr\")\n",
    "PyPlot.xlim([0, Rhub*1.25])\n",
    "PyPlot.ylim([-Rhub*0.125, Rhub*1.125]);"
   ]
  },
  {
   "cell_type": "markdown",
   "metadata": {
    "hidden": true
   },
   "source": [
    "Then we revolve it:"
   ]
  },
  {
   "cell_type": "code",
   "execution_count": 49,
   "metadata": {
    "hidden": true
   },
   "outputs": [],
   "source": [
    "file_name = \"hub00\"\n",
    "\n",
    "thetaNDIVS = 180          # Number of angular sections\n",
    "loop_dim = 1             # Loops the parametric grid\n",
    "\n",
    "# Creates body of revolution\n",
    "grid = gt.surface_revolution(points, thetaNDIVS; loop_dim=loop_dim)\n",
    "\n",
    "dimsplit = 1\n",
    "triang_grid = gt.GridTriangleSurface(grid, dimsplit)\n",
    "\n",
    "# Save vtk and call paraview\n",
    "gt.save(triang_grid, file_name; path=save_path)\n",
    "run(`paraview --data=$(joinpath(save_path, file_name)).vtk`)"
   ]
  },
  {
   "cell_type": "code",
   "execution_count": 50,
   "metadata": {
    "hidden": true
   },
   "outputs": [
    {
     "name": "stdout",
     "output_type": "stream",
     "text": [
      "Property\tAnalytic\tGrid\n",
      "----------------------------------------\n",
      "Area\t\tNaN\t\t0.0013\n",
      "Volume\t\tNaN\t\t0.0\n",
      "Centroid\t[0.0, 0.0, NaN]\t[-0.0, -0.0, 0.0047]\n"
     ]
    }
   ],
   "source": [
    "Agrid = gt.get_area(triang_grid)\n",
    "Aana = NaN\n",
    "\n",
    "Vgrid = gt.get_volume(triang_grid)\n",
    "Vana = NaN\n",
    "\n",
    "Cgrid = gt.get_centroid(triang_grid)\n",
    "Cana = [0, 0, NaN]\n",
    "\n",
    "println(\"Property\\tAnalytic\\tGrid\")\n",
    "println(\"-\"^40)\n",
    "println(\"Area\\t\\t$(round(Aana,4))\\t\\t$(round(Agrid,4))\")\n",
    "println(\"Volume\\t\\t$(round(Vana,4))\\t\\t$(round(Vgrid,4))\")\n",
    "println(\"Centroid\\t$(round.(Cana,4))\\t$(round.(Cgrid,4))\")"
   ]
  },
  {
   "cell_type": "markdown",
   "metadata": {
    "heading_collapsed": true,
    "hidden": true
   },
   "source": [
    "## Example &ndash; Wing: Lofted Body and Object Definition"
   ]
  },
  {
   "cell_type": "markdown",
   "metadata": {
    "hidden": true
   },
   "source": [
    "<img src=\"vid/wing05.gif\" alt=\"Vid here\" style=\"width: 900px;\"/>"
   ]
  },
  {
   "cell_type": "code",
   "execution_count": 51,
   "metadata": {
    "hidden": true
   },
   "outputs": [],
   "source": [
    "file_name = \"paneledwing02\"     # Output file name\n",
    "\n",
    "\n",
    "# ----------------- GEOMETRY DESCRIPTION -------------------------------------------\n",
    "semispan = 1.0                      # (m) semi-span length\n",
    "\n",
    "chords = [0.00 0.25;                # (semi-span position, chord c/semib)\n",
    "          0.25 0.20;\n",
    "          1.00 0.10]\n",
    "\n",
    "twists = [0.0 5;                    # (semi-span position, twist (deg))\n",
    "          1.0 0]\n",
    "\n",
    "x_pos = [0.00 0;                    # (semi-span position, LE x-position x/semib)\n",
    "         0.25 1/40;\n",
    "         1.00 1/8;]\n",
    "\n",
    "z_pos = [0.00 0;                    # (semi-span position, LE x-position x/semib)\n",
    "         0.25 1/100;\n",
    "         1.00 1/50]\n",
    "\n",
    "\n",
    "airfoil_files = [(0.0, \"naca6412.dat\"), # (semi-span position, airfoil file)\n",
    "                 (1.0, \"naca6412.dat\")]\n",
    "\n",
    "\n",
    "# ----------------- MESHING PARAMETERS ---------------------------------------------\n",
    "urfl_NDIVS = [(0.25, 10,   10.0, false),       # Cells on upper side of airfoils\n",
    "              (0.50,  7,    1.0, true),\n",
    "              (0.25,  8, 1/10.0, false)]                    \n",
    "lrfl_NDIVS = urfl_NDIVS             # Cells on lower side of airfoils\n",
    "b_NDIVS = [(1.0, 49, 20.0, true)]   # Span cell sections\n",
    "\n",
    "\n",
    "# ----------------- LOFTING PARAMETERS ---------------------------------------------\n",
    "b_low = -1.0                        # Lower bound of span lofting \n",
    "b_up = 1.0                          # Upper bound of span lofting\n",
    "symmetric = true                    # Lofting symmetric about b=0\n",
    "spl_k = 1                           # Spline order of distributions along span\n",
    "spl_s = 0.0000001                   # Spline smoothing of distribution along span\n",
    "verify_spline = false               # Plots the splined distributions\n",
    "verify_rflspline = true             # Plots the splined airfoil cross sections\n",
    "rflspl_s = 0.00000001               # Spline smoothing of airfoil cross sections.\n",
    "\n",
    "# ----------------- GENERATE WING --------------------------------------------------\n",
    "wing = gt.generate_loft(airfoil_files, airfoil_path, urfl_NDIVS, lrfl_NDIVS, \n",
    "                                        semispan, b_low, b_up, b_NDIVS, \n",
    "                                        chords, twists, x_pos, z_pos; \n",
    "                                        symmetric=symmetric, \n",
    "                                        spl_k=spl_k, spl_s=spl_s,\n",
    "                                        verify_spline=verify_spline,\n",
    "                                        verify_rflspline=false, \n",
    "                                        rflspl_s=rflspl_s\n",
    "                                    )\n",
    "\n",
    "dimsplit = 1\n",
    "triang_grid = gt.GridTriangleSurface(wing, dimsplit)\n",
    "\n",
    "# Save vtk and call paraview\n",
    "gt.save(triang_grid, file_name; path=save_path)\n",
    "run(`paraview --data=$(joinpath(save_path, file_name)).vtk`)"
   ]
  },
  {
   "cell_type": "code",
   "execution_count": 52,
   "metadata": {
    "hidden": true
   },
   "outputs": [
    {
     "name": "stdout",
     "output_type": "stream",
     "text": [
      "Property\tAnalytic\tGrid\n",
      "----------------------------------------\n",
      "Area\t\tNaN\t\t0.6955\n",
      "Volume\t\tNaN\t\t0.0044\n",
      "Centroid\t[NaN, NaN, NaN]\t[0.1213, 0.0002, 0.0133]\n"
     ]
    }
   ],
   "source": [
    "Agrid = gt.get_area(triang_grid)\n",
    "Aana = NaN\n",
    "\n",
    "Vgrid = gt.get_volume(triang_grid)\n",
    "Vana = NaN\n",
    "\n",
    "Cgrid = gt.get_centroid(triang_grid)\n",
    "Cana = [NaN, NaN, NaN]\n",
    "\n",
    "println(\"Property\\tAnalytic\\tGrid\")\n",
    "println(\"-\"^40)\n",
    "println(\"Area\\t\\t$(round(Aana,4))\\t\\t$(round(Agrid,4))\")\n",
    "println(\"Volume\\t\\t$(round(Vana,4))\\t\\t$(round(Vgrid,4))\")\n",
    "println(\"Centroid\\t$(round.(Cana,4))\\t$(round.(Cgrid,4))\")"
   ]
  },
  {
   "cell_type": "markdown",
   "metadata": {
    "hidden": true
   },
   "source": [
    "Here now we use this grid to generate the massified object as wing made out of HD EPS foam:"
   ]
  },
  {
   "cell_type": "code",
   "execution_count": 53,
   "metadata": {
    "hidden": true
   },
   "outputs": [],
   "source": [
    "# Wing component\n",
    "wing_shape = ShapeSurfGrid(                     # Arbitrary surface grid shape\n",
    "                        triang_grid,                # Triangular surface grid\n",
    "                        \"m\"                         # Length units\n",
    "               )\n",
    "wing_obj = ObjectVol(                           # Volumetric object\n",
    "                        wing_shape,                 # Shape\n",
    "                        24.8,                       # (kg/m^3) HD EPS foam density\n",
    "                        \"kg/m^3\"                    # Density units\n",
    "               );"
   ]
  },
  {
   "cell_type": "markdown",
   "metadata": {
    "hidden": true
   },
   "source": [
    "And we can use our grid to estimate its actual mass and center of gravity:"
   ]
  },
  {
   "cell_type": "code",
   "execution_count": 56,
   "metadata": {
    "hidden": true
   },
   "outputs": [
    {
     "name": "stdout",
     "output_type": "stream",
     "text": [
      "Mass:\t\t\t0.11029675888638996kg\n",
      "Center of gravity:\t[0.121319, 0.000208685, 0.0133229]m\n"
     ]
    }
   ],
   "source": [
    "println(\"Mass:\\t\\t\\t\",   mass(wing_obj), massunits(wing_obj))\n",
    "println(\"Center of gravity:\\t\", cg(wing_obj), cgunits(wing_obj))"
   ]
  },
  {
   "cell_type": "markdown",
   "metadata": {
    "hidden": true
   },
   "source": [
    "And we get that this 2m-span HD EPS foam wing weights 110g. That's pretty reasonable."
   ]
  },
  {
   "cell_type": "markdown",
   "metadata": {
    "heading_collapsed": true
   },
   "source": [
    "# Example &ndash; Wing + Propulsion System"
   ]
  },
  {
   "cell_type": "markdown",
   "metadata": {
    "hidden": true
   },
   "source": [
    "In order to show how everything starts to fit together, here I define a system of a wing fixed at $5^\\circ$ angle of attack with propulsion system (motor + propellers)."
   ]
  },
  {
   "cell_type": "markdown",
   "metadata": {
    "hidden": true
   },
   "source": [
    "<img src=\"vid/aircraft01.gif\" alt=\"Vid here\" style=\"width: 900px;\"/>"
   ]
  },
  {
   "cell_type": "markdown",
   "metadata": {
    "hidden": true
   },
   "source": [
    "First we generate the wing grid as a lofted body:"
   ]
  },
  {
   "cell_type": "code",
   "execution_count": 58,
   "metadata": {
    "hidden": true
   },
   "outputs": [],
   "source": [
    "# ----------------- GEOMETRY DESCRIPTION -------------------------------------------\n",
    "semispan = 1.0                      # (m) semi-span length\n",
    "\n",
    "chords = [0.00 0.25;                # (semi-span position, chord c/semib)\n",
    "          0.25 0.20;\n",
    "          1.00 0.10]\n",
    "\n",
    "twists = [0.0 5;                    # (semi-span position, twist (deg))\n",
    "          1.0 0]\n",
    "\n",
    "x_pos = [0.00 0;                    # (semi-span position, LE x-position x/semib)\n",
    "         0.25 1/40;\n",
    "         1.00 1/8;]\n",
    "\n",
    "z_pos = [0.00 0;                    # (semi-span position, LE x-position x/semib)\n",
    "         0.25 1/100;\n",
    "         1.00 1/50]\n",
    "\n",
    "\n",
    "airfoil_files = [(0.0, \"naca6412.dat\"), # (semi-span position, airfoil file)\n",
    "                 (1.0, \"naca6412.dat\")]\n",
    "\n",
    "\n",
    "# ----------------- MESHING PARAMETERS ---------------------------------------------\n",
    "urfl_NDIVS = [(0.25, 10,   10.0, false),       # Cells on upper side of airfoils\n",
    "              (0.50,  7,    1.0, true),\n",
    "              (0.25,  8, 1/10.0, false)]                    \n",
    "lrfl_NDIVS = urfl_NDIVS             # Cells on lower side of airfoils\n",
    "b_NDIVS = [(1.0, 49, 20.0, true)]   # Span cell sections\n",
    "\n",
    "\n",
    "# ----------------- LOFTING PARAMETERS ---------------------------------------------\n",
    "b_low = -1.0                        # Lower bound of span lofting \n",
    "b_up = 1.0                          # Upper bound of span lofting\n",
    "symmetric = true                    # Lofting symmetric about b=0\n",
    "spl_k = 1                           # Spline order of distributions along span\n",
    "spl_s = 0.0000001                   # Spline smoothing of distribution along span\n",
    "verify_spline = false               # Plots the splined distributions\n",
    "verify_rflspline = true             # Plots the splined airfoil cross sections\n",
    "rflspl_s = 0.00000001               # Spline smoothing of airfoil cross sections.\n",
    "\n",
    "# ----------------- GENERATE WING --------------------------------------------------\n",
    "wing_orggrid = gt.generate_loft(airfoil_files, airfoil_path, urfl_NDIVS, lrfl_NDIVS, \n",
    "                                        semispan, b_low, b_up, b_NDIVS, \n",
    "                                        chords, twists, x_pos, z_pos; \n",
    "                                        symmetric=symmetric, \n",
    "                                        spl_k=spl_k, spl_s=spl_s,\n",
    "                                        verify_spline=verify_spline,\n",
    "                                        verify_rflspline=false, \n",
    "                                        rflspl_s=rflspl_s\n",
    "                                    )\n",
    "\n",
    "dimsplit = 1\n",
    "wing_grid = gt.GridTriangleSurface(wing_orggrid, dimsplit);"
   ]
  },
  {
   "cell_type": "markdown",
   "metadata": {
    "hidden": true
   },
   "source": [
    "Then we use that surface grid to generate the shape, massified object, and component of the wing:"
   ]
  },
  {
   "cell_type": "code",
   "execution_count": 59,
   "metadata": {
    "hidden": true
   },
   "outputs": [
    {
     "data": {
      "text/html": [
       "<table class=\"data-frame\"><thead><tr><th></th><th>Name</th><th>ID</th><th>Subcomponents</th><th>Description</th><th>Comments</th><th>Vendor</th><th>$/unit</th><th>Units</th><th>Total cost ($)</th></tr></thead><tbody><tr><th>1</th><td>Wing</td><td>wingHDeps</td><td></td><td></td><td></td><td></td><td>3.0</td><td>1</td><td>3.0</td></tr></tbody></table>"
      ],
      "text/plain": [
       "1×9 DataFrames.DataFrame. Omitted printing of 3 columns\n",
       "│ Row │ Name │ ID        │ Subcomponents │ Description │ Comments │ Vendor │\n",
       "├─────┼──────┼───────────┼───────────────┼─────────────┼──────────┼────────┤\n",
       "│ 1   │ Wing │ wingHDeps │               │             │          │        │"
      ]
     },
     "execution_count": 59,
     "metadata": {},
     "output_type": "execute_result"
    }
   ],
   "source": [
    "# Wing component\n",
    "wing_shape = adt.ShapeSurfGrid(                     # Arbitrary surface grid shape\n",
    "                        wing_grid,                  # Triangular surface grid\n",
    "                        \"m\"                         # Length units\n",
    "               )\n",
    "wing_obj = adt.ObjectVol(                           # Volumetric object\n",
    "                        wing_shape,                 # Shape\n",
    "                        24.8,                       # (kg/m^3) HD EPS foam density\n",
    "                        \"kg/m^3\"                    # Density units\n",
    "               )\n",
    "wing = adt.Component(                               # Component definition\n",
    "                        \"Wing\",                     # Name\n",
    "                        wing_obj;                   # Object\n",
    "                        id=\"wingHDeps\",             # Identifier\n",
    "                        cost=3.0                    # $/unit\n",
    "                       )"
   ]
  },
  {
   "cell_type": "markdown",
   "metadata": {
    "hidden": true
   },
   "source": [
    "Now we create the rotor pods that go into the propulsion system, and then we place the propulsion system and the wing into an overall \"aircraft\" system:"
   ]
  },
  {
   "cell_type": "code",
   "execution_count": 63,
   "metadata": {
    "hidden": true
   },
   "outputs": [
    {
     "data": {
      "text/html": [
       "<table class=\"data-frame\"><thead><tr><th></th><th>Name</th><th>ID</th><th>Subcomponents</th><th>Description</th><th>Comments</th><th>Vendor</th><th>$/unit</th><th>Units</th><th>Total cost ($)</th></tr></thead><tbody><tr><th>1</th><td>Fixed-wing Aircraft</td><td>-1</td><td>Wing, Propulsion system</td><td></td><td></td><td></td><td>29.9</td><td>1</td><td>29.9</td></tr><tr><th>2</th><td>Wing</td><td>wingHDeps</td><td></td><td></td><td></td><td></td><td>3.0</td><td>1</td><td>3.0</td></tr><tr><th>3</th><td>Propulsion system</td><td>-1</td><td>Rotor pod, Rotor pod</td><td></td><td></td><td></td><td>26.9</td><td>1</td><td>26.9</td></tr><tr><th>4</th><td>Rotor pod</td><td>rotpod</td><td>Motor 1000kv, Propeller</td><td></td><td></td><td></td><td>13.45</td><td>2</td><td>26.9</td></tr><tr><th>5</th><td>Motor 1000kv</td><td>motor1000kv</td><td></td><td>Turnigy D2830-11 1000kv Brushless Motor</td><td>1000kv, requires 30A ESC, suggested prop 8x4 (4S) ~ 10x7 (2S) </td><td>https://hobbyking.com/en_us/d2830-11-1000kv-brushless-motor.html</td><td>11</td><td>2</td><td>22</td></tr><tr><th>6</th><td>Propeller</td><td>prop8x4</td><td></td><td>APC 8x4.7 slow-flyer ropeller</td><td></td><td>https://www.apcprop.com/product/8x4-7sf/</td><td>2.45</td><td>2</td><td>4.9</td></tr></tbody></table>"
      ],
      "text/plain": [
       "6×9 DataFrames.DataFrame. Omitted printing of 6 columns\n",
       "│ Row │ Name                │ ID          │ Subcomponents           │\n",
       "├─────┼─────────────────────┼─────────────┼─────────────────────────┤\n",
       "│ 1   │ Fixed-wing Aircraft │ -1          │ Wing, Propulsion system │\n",
       "│ 2   │ Wing                │ wingHDeps   │                         │\n",
       "│ 3   │ Propulsion system   │ -1          │ Rotor pod, Rotor pod    │\n",
       "│ 4   │ Rotor pod           │ rotpod      │ Motor 1000kv, Propeller │\n",
       "│ 5   │ Motor 1000kv        │ motor1000kv │                         │\n",
       "│ 6   │ Propeller           │ prop8x4     │                         │"
      ]
     },
     "execution_count": 63,
     "metadata": {},
     "output_type": "execute_result"
    }
   ],
   "source": [
    "# -------------- SYSTEMS ----------------------------------------------------------\n",
    "\n",
    "# Rotor pod: motor + propeller\n",
    "rotorpod = adt.System(\n",
    "                        \"Rotor pod\",                # Name\n",
    "                        [motor1000kv, prop8x4];     # Subcomponents\n",
    "                        id=\"rotpod\",                # Identifier\n",
    "    \n",
    "                        # Orientation of motor and prop: centerline (z-axis) \n",
    "                        # aligned with x-axis\n",
    "                        subOaxis = [[0 1 0; 0 0 1; 1 0 0], [0 1 0; 0 0 1; 1 0 0]],\n",
    "    \n",
    "                        # Position of motor and prop: Rotor flush with motor face\n",
    "                        subO=[zeros(3), [-prop8x4.subcomponents.shape.h, 0, 0]]\n",
    "               )\n",
    "\n",
    "# Propulsion system: One rotor pod at each side of the wing\n",
    "propulsion = adt.System(\n",
    "                        \"Propulsion system\",            # Name\n",
    "                        [rotorpod, rotorpod];           # Subcomponents\n",
    "    \n",
    "                        # Position of rotor pods: left and right side of wing\n",
    "                        subO=[[0, -0.35*semispan, 0], [0, 0.35*semispan, 0]]\n",
    "              )\n",
    "\n",
    "# Aircraft: wing + propulsion system\n",
    "aircraft = adt.System(\n",
    "                        \"Fixed-wing Aircraft\",          # Name\n",
    "                        [wing, propulsion];             # Subcomponents\n",
    "    \n",
    "                        # Places the wing at 5deg angle of attack\n",
    "                        subOaxis = [adt.rotation_matrix(0, 5.0, 0), eye(3)],\n",
    "    \n",
    "                        # Position of components: wing and propulsion system\n",
    "                        subO=[[0, 0, 0], [0, 0, 0]]\n",
    "              )"
   ]
  },
  {
   "cell_type": "markdown",
   "metadata": {
    "hidden": true
   },
   "source": [
    "Bill of materials:"
   ]
  },
  {
   "cell_type": "code",
   "execution_count": 64,
   "metadata": {
    "hidden": true
   },
   "outputs": [
    {
     "data": {
      "text/html": [
       "<table class=\"data-frame\"><thead><tr><th></th><th>Name</th><th>ID</th><th>Subcomponents</th><th>Description</th><th>Comments</th><th>Vendor</th><th>$/unit</th><th>Units</th><th>Total cost ($)</th></tr></thead><tbody><tr><th>1</th><td>Wing</td><td>wingHDeps</td><td></td><td></td><td></td><td></td><td>3.0</td><td>1</td><td>3.0</td></tr><tr><th>2</th><td>Motor 1000kv</td><td>motor1000kv</td><td></td><td>Turnigy D2830-11 1000kv Brushless Motor</td><td>1000kv, requires 30A ESC, suggested prop 8x4 (4S) ~ 10x7 (2S) </td><td>https://hobbyking.com/en_us/d2830-11-1000kv-brushless-motor.html</td><td>11</td><td>2</td><td>22</td></tr><tr><th>3</th><td>Propeller</td><td>prop8x4</td><td></td><td>APC 8x4.7 slow-flyer ropeller</td><td></td><td>https://www.apcprop.com/product/8x4-7sf/</td><td>2.45</td><td>2</td><td>4.9</td></tr></tbody></table>"
      ],
      "text/plain": [
       "3×9 DataFrames.DataFrame. Omitted printing of 6 columns\n",
       "│ Row │ Name         │ ID          │ Subcomponents │\n",
       "├─────┼──────────────┼─────────────┼───────────────┤\n",
       "│ 1   │ Wing         │ wingHDeps   │               │\n",
       "│ 2   │ Motor 1000kv │ motor1000kv │               │\n",
       "│ 3   │ Propeller    │ prop8x4     │               │"
      ]
     },
     "metadata": {},
     "output_type": "display_data"
    }
   ],
   "source": [
    "displaybom(aircraft)"
   ]
  },
  {
   "cell_type": "markdown",
   "metadata": {
    "hidden": true
   },
   "source": [
    "Saves the shapes as VTKs and visualizes them in Paraview:"
   ]
  },
  {
   "cell_type": "code",
   "execution_count": null,
   "metadata": {
    "hidden": true
   },
   "outputs": [],
   "source": [
    "str = adt.save_shape(aircraft; path=save_path)\n",
    "run(`paraview --data=$(save_path)/$(str)`)"
   ]
  }
 ],
 "metadata": {
  "@webio": {
   "lastCommId": null,
   "lastKernelId": null
  },
  "hide_input": false,
  "kernelspec": {
   "display_name": "Julia 0.6.4",
   "language": "julia",
   "name": "julia-0.6"
  },
  "language_info": {
   "file_extension": ".jl",
   "mimetype": "application/julia",
   "name": "julia",
   "version": "0.6.4"
  }
 },
 "nbformat": 4,
 "nbformat_minor": 2
}
